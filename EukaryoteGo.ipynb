{
  "cells": [
    {
      "cell_type": "code",
      "source": [
        "!pip install torch_geometric"
      ],
      "metadata": {
        "colab": {
          "base_uri": "https://localhost:8080/"
        },
        "id": "s9qO_B3nGnQb",
        "outputId": "779e70e6-208b-4a3f-a579-e2efc9749852"
      },
      "id": "s9qO_B3nGnQb",
      "execution_count": null,
      "outputs": [
        {
          "output_type": "stream",
          "name": "stdout",
          "text": [
            "Collecting torch_geometric\n",
            "  Downloading torch_geometric-2.5.3-py3-none-any.whl (1.1 MB)\n",
            "\u001b[2K     \u001b[90m━━━━━━━━━━━━━━━━━━━━━━━━━━━━━━━━━━━━━━━━\u001b[0m \u001b[32m1.1/1.1 MB\u001b[0m \u001b[31m4.8 MB/s\u001b[0m eta \u001b[36m0:00:00\u001b[0m\n",
            "\u001b[?25hRequirement already satisfied: tqdm in /usr/local/lib/python3.10/dist-packages (from torch_geometric) (4.66.4)\n",
            "Requirement already satisfied: numpy in /usr/local/lib/python3.10/dist-packages (from torch_geometric) (1.25.2)\n",
            "Requirement already satisfied: scipy in /usr/local/lib/python3.10/dist-packages (from torch_geometric) (1.11.4)\n",
            "Requirement already satisfied: fsspec in /usr/local/lib/python3.10/dist-packages (from torch_geometric) (2023.6.0)\n",
            "Requirement already satisfied: jinja2 in /usr/local/lib/python3.10/dist-packages (from torch_geometric) (3.1.4)\n",
            "Requirement already satisfied: aiohttp in /usr/local/lib/python3.10/dist-packages (from torch_geometric) (3.9.5)\n",
            "Requirement already satisfied: requests in /usr/local/lib/python3.10/dist-packages (from torch_geometric) (2.31.0)\n",
            "Requirement already satisfied: pyparsing in /usr/local/lib/python3.10/dist-packages (from torch_geometric) (3.1.2)\n",
            "Requirement already satisfied: scikit-learn in /usr/local/lib/python3.10/dist-packages (from torch_geometric) (1.2.2)\n",
            "Requirement already satisfied: psutil>=5.8.0 in /usr/local/lib/python3.10/dist-packages (from torch_geometric) (5.9.5)\n",
            "Requirement already satisfied: aiosignal>=1.1.2 in /usr/local/lib/python3.10/dist-packages (from aiohttp->torch_geometric) (1.3.1)\n",
            "Requirement already satisfied: attrs>=17.3.0 in /usr/local/lib/python3.10/dist-packages (from aiohttp->torch_geometric) (23.2.0)\n",
            "Requirement already satisfied: frozenlist>=1.1.1 in /usr/local/lib/python3.10/dist-packages (from aiohttp->torch_geometric) (1.4.1)\n",
            "Requirement already satisfied: multidict<7.0,>=4.5 in /usr/local/lib/python3.10/dist-packages (from aiohttp->torch_geometric) (6.0.5)\n",
            "Requirement already satisfied: yarl<2.0,>=1.0 in /usr/local/lib/python3.10/dist-packages (from aiohttp->torch_geometric) (1.9.4)\n",
            "Requirement already satisfied: async-timeout<5.0,>=4.0 in /usr/local/lib/python3.10/dist-packages (from aiohttp->torch_geometric) (4.0.3)\n",
            "Requirement already satisfied: MarkupSafe>=2.0 in /usr/local/lib/python3.10/dist-packages (from jinja2->torch_geometric) (2.1.5)\n",
            "Requirement already satisfied: charset-normalizer<4,>=2 in /usr/local/lib/python3.10/dist-packages (from requests->torch_geometric) (3.3.2)\n",
            "Requirement already satisfied: idna<4,>=2.5 in /usr/local/lib/python3.10/dist-packages (from requests->torch_geometric) (3.7)\n",
            "Requirement already satisfied: urllib3<3,>=1.21.1 in /usr/local/lib/python3.10/dist-packages (from requests->torch_geometric) (2.0.7)\n",
            "Requirement already satisfied: certifi>=2017.4.17 in /usr/local/lib/python3.10/dist-packages (from requests->torch_geometric) (2024.6.2)\n",
            "Requirement already satisfied: joblib>=1.1.1 in /usr/local/lib/python3.10/dist-packages (from scikit-learn->torch_geometric) (1.4.2)\n",
            "Requirement already satisfied: threadpoolctl>=2.0.0 in /usr/local/lib/python3.10/dist-packages (from scikit-learn->torch_geometric) (3.5.0)\n",
            "Installing collected packages: torch_geometric\n",
            "Successfully installed torch_geometric-2.5.3\n"
          ]
        }
      ]
    },
    {
      "cell_type": "code",
      "source": [
        "import os\n",
        "import torch\n",
        "os.environ['TORCH'] = torch.__version__\n",
        "print(torch.__version__)\n",
        "\n",
        "!pip install pyg-lib -f https://data.pyg.org/whl/torch-${TORCH}.html\n",
        "!pip install git+https://github.com/pyg-team/pytorch_geometric.git\n",
        "\n",
        "!pip install torch-scatter -f https://pytorch-geometric.com/whl/torch-2.3.0+cu121.html\n",
        "!pip install torch-sparse -f https://pytorch-geometric.com/whl/torch-2.3.0+cu121.html"
      ],
      "metadata": {
        "colab": {
          "base_uri": "https://localhost:8080/"
        },
        "id": "SlKJa_yHDCVx",
        "outputId": "d4ceb1c2-4eba-49e2-b5be-7e5144703136"
      },
      "id": "SlKJa_yHDCVx",
      "execution_count": null,
      "outputs": [
        {
          "output_type": "stream",
          "name": "stdout",
          "text": [
            "2.3.0+cu121\n",
            "Looking in links: https://data.pyg.org/whl/torch-2.3.0+cu121.html\n",
            "Collecting pyg-lib\n",
            "  Downloading https://data.pyg.org/whl/torch-2.3.0%2Bcu121/pyg_lib-0.4.0%2Bpt23cu121-cp310-cp310-linux_x86_64.whl (2.5 MB)\n",
            "\u001b[2K     \u001b[90m━━━━━━━━━━━━━━━━━━━━━━━━━━━━━━━━━━━━━━━━\u001b[0m \u001b[32m2.5/2.5 MB\u001b[0m \u001b[31m8.2 MB/s\u001b[0m eta \u001b[36m0:00:00\u001b[0m\n",
            "\u001b[?25hInstalling collected packages: pyg-lib\n",
            "Successfully installed pyg-lib-0.4.0+pt23cu121\n",
            "Collecting git+https://github.com/pyg-team/pytorch_geometric.git\n",
            "  Cloning https://github.com/pyg-team/pytorch_geometric.git to /tmp/pip-req-build-4b5bjszb\n",
            "  Running command git clone --filter=blob:none --quiet https://github.com/pyg-team/pytorch_geometric.git /tmp/pip-req-build-4b5bjszb\n",
            "  Resolved https://github.com/pyg-team/pytorch_geometric.git to commit 4e01b0bca72e97aca2ec0e1edf27ec768dc16d8a\n",
            "  Installing build dependencies ... \u001b[?25l\u001b[?25hdone\n",
            "  Getting requirements to build wheel ... \u001b[?25l\u001b[?25hdone\n",
            "  Preparing metadata (pyproject.toml) ... \u001b[?25l\u001b[?25hdone\n",
            "Requirement already satisfied: aiohttp in /usr/local/lib/python3.10/dist-packages (from torch-geometric==2.6.0) (3.9.5)\n",
            "Requirement already satisfied: fsspec in /usr/local/lib/python3.10/dist-packages (from torch-geometric==2.6.0) (2023.6.0)\n",
            "Requirement already satisfied: jinja2 in /usr/local/lib/python3.10/dist-packages (from torch-geometric==2.6.0) (3.1.4)\n",
            "Requirement already satisfied: numpy in /usr/local/lib/python3.10/dist-packages (from torch-geometric==2.6.0) (1.25.2)\n",
            "Requirement already satisfied: psutil>=5.8.0 in /usr/local/lib/python3.10/dist-packages (from torch-geometric==2.6.0) (5.9.5)\n",
            "Requirement already satisfied: pyparsing in /usr/local/lib/python3.10/dist-packages (from torch-geometric==2.6.0) (3.1.2)\n",
            "Requirement already satisfied: requests in /usr/local/lib/python3.10/dist-packages (from torch-geometric==2.6.0) (2.31.0)\n",
            "Requirement already satisfied: scikit-learn in /usr/local/lib/python3.10/dist-packages (from torch-geometric==2.6.0) (1.2.2)\n",
            "Requirement already satisfied: scipy in /usr/local/lib/python3.10/dist-packages (from torch-geometric==2.6.0) (1.11.4)\n",
            "Requirement already satisfied: tqdm in /usr/local/lib/python3.10/dist-packages (from torch-geometric==2.6.0) (4.66.4)\n",
            "Requirement already satisfied: aiosignal>=1.1.2 in /usr/local/lib/python3.10/dist-packages (from aiohttp->torch-geometric==2.6.0) (1.3.1)\n",
            "Requirement already satisfied: attrs>=17.3.0 in /usr/local/lib/python3.10/dist-packages (from aiohttp->torch-geometric==2.6.0) (23.2.0)\n",
            "Requirement already satisfied: frozenlist>=1.1.1 in /usr/local/lib/python3.10/dist-packages (from aiohttp->torch-geometric==2.6.0) (1.4.1)\n",
            "Requirement already satisfied: multidict<7.0,>=4.5 in /usr/local/lib/python3.10/dist-packages (from aiohttp->torch-geometric==2.6.0) (6.0.5)\n",
            "Requirement already satisfied: yarl<2.0,>=1.0 in /usr/local/lib/python3.10/dist-packages (from aiohttp->torch-geometric==2.6.0) (1.9.4)\n",
            "Requirement already satisfied: async-timeout<5.0,>=4.0 in /usr/local/lib/python3.10/dist-packages (from aiohttp->torch-geometric==2.6.0) (4.0.3)\n",
            "Requirement already satisfied: MarkupSafe>=2.0 in /usr/local/lib/python3.10/dist-packages (from jinja2->torch-geometric==2.6.0) (2.1.5)\n",
            "Requirement already satisfied: charset-normalizer<4,>=2 in /usr/local/lib/python3.10/dist-packages (from requests->torch-geometric==2.6.0) (3.3.2)\n",
            "Requirement already satisfied: idna<4,>=2.5 in /usr/local/lib/python3.10/dist-packages (from requests->torch-geometric==2.6.0) (3.7)\n",
            "Requirement already satisfied: urllib3<3,>=1.21.1 in /usr/local/lib/python3.10/dist-packages (from requests->torch-geometric==2.6.0) (2.0.7)\n",
            "Requirement already satisfied: certifi>=2017.4.17 in /usr/local/lib/python3.10/dist-packages (from requests->torch-geometric==2.6.0) (2024.6.2)\n",
            "Requirement already satisfied: joblib>=1.1.1 in /usr/local/lib/python3.10/dist-packages (from scikit-learn->torch-geometric==2.6.0) (1.4.2)\n",
            "Requirement already satisfied: threadpoolctl>=2.0.0 in /usr/local/lib/python3.10/dist-packages (from scikit-learn->torch-geometric==2.6.0) (3.5.0)\n",
            "Building wheels for collected packages: torch-geometric\n",
            "  Building wheel for torch-geometric (pyproject.toml) ... \u001b[?25l\u001b[?25hdone\n",
            "  Created wheel for torch-geometric: filename=torch_geometric-2.6.0-py3-none-any.whl size=1119024 sha256=ca87921375de24fa4c4ccd3dd8fa730c88105223c295c46585a77607ae1d411e\n",
            "  Stored in directory: /tmp/pip-ephem-wheel-cache-zlvkx5wa/wheels/d3/78/eb/9e26525b948d19533f1688fb6c209cec8a0ba793d39b49ae8f\n",
            "Successfully built torch-geometric\n",
            "Installing collected packages: torch-geometric\n",
            "  Attempting uninstall: torch-geometric\n",
            "    Found existing installation: torch_geometric 2.5.3\n",
            "    Uninstalling torch_geometric-2.5.3:\n",
            "      Successfully uninstalled torch_geometric-2.5.3\n",
            "Successfully installed torch-geometric-2.6.0\n",
            "Looking in links: https://pytorch-geometric.com/whl/torch-2.3.0+cu121.html\n",
            "Collecting torch-scatter\n",
            "  Downloading https://data.pyg.org/whl/torch-2.3.0%2Bcu121/torch_scatter-2.1.2%2Bpt23cu121-cp310-cp310-linux_x86_64.whl (10.9 MB)\n",
            "\u001b[2K     \u001b[90m━━━━━━━━━━━━━━━━━━━━━━━━━━━━━━━━━━━━━━━━\u001b[0m \u001b[32m10.9/10.9 MB\u001b[0m \u001b[31m65.1 MB/s\u001b[0m eta \u001b[36m0:00:00\u001b[0m\n",
            "\u001b[?25hInstalling collected packages: torch-scatter\n",
            "Successfully installed torch-scatter-2.1.2+pt23cu121\n",
            "Looking in links: https://pytorch-geometric.com/whl/torch-2.3.0+cu121.html\n",
            "Collecting torch-sparse\n",
            "  Downloading https://data.pyg.org/whl/torch-2.3.0%2Bcu121/torch_sparse-0.6.18%2Bpt23cu121-cp310-cp310-linux_x86_64.whl (5.1 MB)\n",
            "\u001b[2K     \u001b[90m━━━━━━━━━━━━━━━━━━━━━━━━━━━━━━━━━━━━━━━━\u001b[0m \u001b[32m5.1/5.1 MB\u001b[0m \u001b[31m42.2 MB/s\u001b[0m eta \u001b[36m0:00:00\u001b[0m\n",
            "\u001b[?25hRequirement already satisfied: scipy in /usr/local/lib/python3.10/dist-packages (from torch-sparse) (1.11.4)\n",
            "Requirement already satisfied: numpy<1.28.0,>=1.21.6 in /usr/local/lib/python3.10/dist-packages (from scipy->torch-sparse) (1.25.2)\n",
            "Installing collected packages: torch-sparse\n",
            "Successfully installed torch-sparse-0.6.18+pt23cu121\n"
          ]
        }
      ]
    },
    {
      "cell_type": "code",
      "source": [
        "import numpy as np\n",
        "import os\n",
        "import scipy\n",
        "import scipy.io\n",
        "import os.path as osp\n",
        "from torch_geometric.data import Data\n",
        "import torch\n",
        "from gensim.models import Word2Vec, KeyedVectors\n",
        "import torch_geometric.transforms as T\n",
        "import torch.nn.functional as F\n",
        "from sklearn.metrics import jaccard_score\n",
        "import networkx as nx\n",
        "import torch.nn as nn"
      ],
      "metadata": {
        "id": "Lkgh59AdOUki"
      },
      "id": "Lkgh59AdOUki",
      "execution_count": null,
      "outputs": []
    },
    {
      "cell_type": "code",
      "source": [
        "# connected to google drive\n",
        "from google.colab import drive\n",
        "drive.mount('/content/drive')"
      ],
      "metadata": {
        "colab": {
          "base_uri": "https://localhost:8080/"
        },
        "id": "-aExqd31AaCK",
        "outputId": "abc7ec04-c446-48ab-f852-36dfb25b4dc4"
      },
      "id": "-aExqd31AaCK",
      "execution_count": null,
      "outputs": [
        {
          "output_type": "stream",
          "name": "stdout",
          "text": [
            "Mounted at /content/drive\n"
          ]
        }
      ]
    },
    {
      "cell_type": "code",
      "execution_count": null,
      "id": "032957cd-d043-4e17-ba9d-1f6160a1fa57",
      "metadata": {
        "id": "032957cd-d043-4e17-ba9d-1f6160a1fa57"
      },
      "outputs": [],
      "source": [
        "def load_eukloc(data_name=\"EukaryoteGo\", path='/content/drive/My Drive/data'):\n",
        "    edge_list = torch.tensor(np.genfromtxt(os.path.join(path, data_name, \"edge_list.csv\"),\n",
        "                                           skip_header=1, dtype=np.dtype(float), delimiter=','))[:, :2].long()\n",
        "    edge_list_other_half = torch.hstack((edge_list[:, 1].reshape(-1, 1), edge_list[:, 0].reshape(-1, 1)))\n",
        "    edge_index = torch.transpose(edge_list, 0, 1)\n",
        "    edge_index_other_half = torch.transpose(edge_list_other_half, 0, 1)\n",
        "    edge_index = torch.hstack((edge_index, edge_index_other_half))\n",
        "\n",
        "    labels = np.genfromtxt(os.path.join(path, data_name, \"labels.csv\"),\n",
        "                           dtype=np.dtype(float), delimiter=',')\n",
        "    labels = torch.tensor(labels).float()\n",
        "\n",
        "    adj = torch.sparse_coo_tensor(edge_index, torch.ones(edge_index.shape[1]),\n",
        "                                  (labels.shape[0], labels.shape[0])).to_dense()\n",
        "\n",
        "    features = torch.tensor(np.genfromtxt(os.path.join(path, data_name, \"features.csv\"),\n",
        "                            dtype=np.dtype(float), delimiter=',')).float()\n",
        "\n",
        "    file_path = os.path.join(path, data_name, \"split.pt\")\n",
        "    masks = torch.load(file_path)\n",
        "    train_idx = masks[\"train_mask\"]\n",
        "    train_mask = torch.zeros(features.shape[0], dtype=torch.bool)\n",
        "    train_mask[train_idx] = True\n",
        "\n",
        "    val_idx = masks[\"val_mask\"]\n",
        "    val_mask = torch.zeros(features.shape[0], dtype=torch.bool)\n",
        "    val_mask[val_idx] = True\n",
        "\n",
        "    test_idx = masks[\"test_mask\"]\n",
        "    test_mask = torch.zeros(features.shape[0], dtype=torch.bool)\n",
        "    test_mask[test_idx] = True\n",
        "    G = Data(x=features,\n",
        "             edge_index=edge_index,\n",
        "             y=labels)\n",
        "    G.train_mask = train_mask\n",
        "    G.val_mask = val_mask\n",
        "    G.test_mask = test_mask\n",
        "    #G.adj = adj\n",
        "    G.num_nodes = G.x.shape[0]\n",
        "    G.n_id = torch.arange(G.num_nodes)\n",
        "    # embedding the label for val and test\n",
        "    val_test_mask = G.val_mask + G.test_mask\n",
        "    padding = torch.full((1, G.y.shape[1]), 1 / G.y.shape[1]).float()\n",
        "    # Pad the rows for test and validation nodes\n",
        "    label_matrix = G.y.clone().detach()\n",
        "    label_matrix[val_test_mask] = padding\n",
        "    G.y_pad = label_matrix\n",
        "    Label_train = G.y[G.train_mask].transpose(0, 1)\n",
        "    # CN * NC\n",
        "    #LabelCor = torch.mm(Label_train, G.y[G.train_mask])\n",
        "    #G.LabelCor = row_normalize(LabelCor)\n",
        "    return G"
      ]
    },
    {
      "cell_type": "code",
      "execution_count": null,
      "id": "cddaeabb-0fa0-49ed-b6fd-da199e21d0e9",
      "metadata": {
        "scrolled": true,
        "colab": {
          "base_uri": "https://localhost:8080/"
        },
        "id": "cddaeabb-0fa0-49ed-b6fd-da199e21d0e9",
        "outputId": "9ab30da9-97a3-4c22-99cc-d13c3bb972c2"
      },
      "outputs": [
        {
          "output_type": "execute_result",
          "data": {
            "text/plain": [
              "Data(x=[7766, 32], edge_index=[2, 27636], y=[7766, 22], train_mask=[7766], val_mask=[7766], test_mask=[7766], num_nodes=7766, n_id=[7766], y_pad=[7766, 22])"
            ]
          },
          "metadata": {},
          "execution_count": 6
        }
      ],
      "source": [
        "Euka = load_eukloc(data_name=\"EukaryoteGo\", path='/content/drive/My Drive/data')\n",
        "Euka"
      ]
    },
    {
      "cell_type": "code",
      "execution_count": null,
      "id": "02cc0135-2eb2-478a-b2a4-316bf8dfff85",
      "metadata": {
        "colab": {
          "base_uri": "https://localhost:8080/"
        },
        "id": "02cc0135-2eb2-478a-b2a4-316bf8dfff85",
        "outputId": "e5c4727e-a6ca-4f49-c90e-7cd52d751290"
      },
      "outputs": [
        {
          "output_type": "stream",
          "name": "stdout",
          "text": [
            "Number of nodes: 7766\n",
            "Number of edges: 12050\n"
          ]
        }
      ],
      "source": [
        "#reading EukaryoteGo\n",
        "edge_index = Euka.edge_index\n",
        "G_Euka = nx.Graph()\n",
        "nodes = list(range(Euka.num_nodes))\n",
        "G_Euka.add_nodes_from(nodes)\n",
        "edges = edge_index.t().tolist()  # 转置并转换为 Python 列表\n",
        "G_Euka.add_edges_from(edges)\n",
        "print(\"Number of nodes:\", G_Euka.number_of_nodes())\n",
        "print(\"Number of edges:\", G_Euka.number_of_edges())"
      ]
    },
    {
      "cell_type": "code",
      "source": [
        "# 2. 计算每个节点的度\n",
        "degrees = [G_Euka.degree(n) for n in G_Euka.nodes()]\n",
        "\n",
        "# 3. 统计每个度出现的频率\n",
        "degree_counts = {}\n",
        "for degree in degrees:\n",
        "    if degree in degree_counts:\n",
        "        degree_counts[degree] += 1\n",
        "    else:\n",
        "        degree_counts[degree] = 1\n",
        "\n",
        "# 4. 分离度和值\n",
        "degree_values = list(degree_counts.keys())\n",
        "counts = list(degree_counts.values())\n",
        "\n",
        "# 5. 绘制度分布图\n",
        "plt.figure(figsize=(10, 6))\n",
        "plt.bar(degree_values, counts, width=0.8, color='b')\n",
        "\n",
        "plt.title(\"Degree Distribution\")\n",
        "plt.xlabel(\"Degree\")\n",
        "plt.ylabel(\"Frequency\")\n",
        "plt.yscale('log')  # 如果需要，可以将y轴设为对数尺度\n",
        "\n",
        "plt.show()"
      ],
      "metadata": {
        "colab": {
          "base_uri": "https://localhost:8080/",
          "height": 564
        },
        "id": "-1Fx9dgfTPMY",
        "outputId": "d3b2d5a8-d37e-4bd5-8821-632228dcea52"
      },
      "id": "-1Fx9dgfTPMY",
      "execution_count": 185,
      "outputs": [
        {
          "output_type": "display_data",
          "data": {
            "text/plain": [
              "<Figure size 1000x600 with 1 Axes>"
            ],
            "image/png": "[encoded data removed]"
          },
          "metadata": {}
        }
      ]
    },
    {
      "cell_type": "code",
      "execution_count": null,
      "id": "98ed522c-b568-4abf-978e-d44d88963c37",
      "metadata": {
        "colab": {
          "base_uri": "https://localhost:8080/"
        },
        "id": "98ed522c-b568-4abf-978e-d44d88963c37",
        "outputId": "8d4bb1d3-9644-4ee8-81cf-f0b6b5a59c2d"
      },
      "outputs": [
        {
          "output_type": "stream",
          "name": "stdout",
          "text": [
            "Number of nodes-lcc: 2969\n",
            "Number of edges-lcc: 11716\n",
            "Number of nodes-remaining: 4797\n",
            "Number of edges-remaining: 334\n"
          ]
        }
      ],
      "source": [
        "#Spliting EukaryoteGo into largest connected component and remaining\n",
        "largest_cc = max(nx.connected_components(G_Euka), key=len)\n",
        "largest_subgraph = G_Euka.subgraph(largest_cc)\n",
        "# 打印节点和边的数量\n",
        "print(\"Number of nodes-lcc:\", largest_subgraph.number_of_nodes())\n",
        "print(\"Number of edges-lcc:\", largest_subgraph.number_of_edges())\n",
        "G_remaining = G_Euka.copy()\n",
        "# 移除 G1 中的所有节点\n",
        "G_remaining.remove_nodes_from(largest_subgraph.nodes)\n",
        "# 移除 G1 中的所有边\n",
        "G_remaining.remove_edges_from(largest_subgraph.edges)\n",
        "print(\"Number of nodes-remaining:\", G_remaining.number_of_nodes())\n",
        "print(\"Number of edges-remaining:\", G_remaining.number_of_edges())"
      ]
    },
    {
      "cell_type": "code",
      "execution_count": null,
      "id": "46c234f0-10c3-4e22-89b3-b98ff12a25b4",
      "metadata": {
        "id": "46c234f0-10c3-4e22-89b3-b98ff12a25b4"
      },
      "outputs": [],
      "source": [
        "# support = 0.0\n",
        "# label_classes = []\n",
        "# for edge in edges:\n",
        "#     support = support + jaccard_score(labels[edge[0]].numpy(),\n",
        "#                                       labels[edge[1]].numpy())\n",
        "#     edge_0_label = find_occurance_class(labels[edge[0]].numpy())\n",
        "#     edge_1_label = find_occurance_class(labels[edge[1]].numpy())\n",
        "\n",
        "# h = support / len(edges)\n",
        "# print(h)"
      ]
    },
    {
      "cell_type": "code",
      "execution_count": null,
      "id": "d4c77ba7-85f4-4a5e-9221-614c517bfc65",
      "metadata": {
        "colab": {
          "base_uri": "https://localhost:8080/"
        },
        "id": "d4c77ba7-85f4-4a5e-9221-614c517bfc65",
        "outputId": "18e05234-bf15-4931-feeb-17a762b0ee91"
      },
      "outputs": [
        {
          "output_type": "stream",
          "name": "stdout",
          "text": [
            "0.4314470240127457\n"
          ]
        }
      ],
      "source": [
        "#计算largest connected component中的label homophily\n",
        "labels = Euka.y\n",
        "support = 0.0\n",
        "label_classes_lcc = []\n",
        "for edge in list(largest_subgraph.edges):\n",
        "    support = support + jaccard_score(labels[edge[0]].numpy(),\n",
        "                                      labels[edge[1]].numpy())\n",
        "\n",
        "#不能从边上找出现过的label类，要从节点上找，因为很多节点是孤立的\n",
        "h = support / largest_subgraph.number_of_edges()\n",
        "print(h)"
      ]
    },
    {
      "cell_type": "code",
      "execution_count": null,
      "id": "dc01852b-f05c-4ee8-a481-9b180883cbbd",
      "metadata": {
        "colab": {
          "base_uri": "https://localhost:8080/"
        },
        "id": "dc01852b-f05c-4ee8-a481-9b180883cbbd",
        "outputId": "a9c6a6fc-9653-44bb-cccd-41a1bfade728"
      },
      "outputs": [
        {
          "output_type": "stream",
          "name": "stdout",
          "text": [
            "0.7692115768463073\n"
          ]
        }
      ],
      "source": [
        "#计算remaining graph中的label homophily\n",
        "support = 0.0\n",
        "for edge in list(G_remaining.edges):\n",
        "    support = support + jaccard_score(labels[edge[0]].numpy(),\n",
        "                                      labels[edge[1]].numpy())\n",
        "\n",
        "h = support / G_remaining.number_of_edges()\n",
        "print(h)\n",
        "\n",
        "#many self loops, 信息缺失"
      ]
    },
    {
      "cell_type": "code",
      "execution_count": null,
      "id": "d7a03c66-08a4-4ce3-bf81-71c29d18fdcc",
      "metadata": {
        "colab": {
          "base_uri": "https://localhost:8080/"
        },
        "id": "d7a03c66-08a4-4ce3-bf81-71c29d18fdcc",
        "outputId": "74508357-4ae6-44b7-fb60-e42d8aa1eac6"
      },
      "outputs": [
        {
          "output_type": "stream",
          "name": "stdout",
          "text": [
            "聚类系数: 0.15023900995956704\n",
            "链接密度: 0.002659103639676477\n"
          ]
        }
      ],
      "source": [
        "# 计算聚类系数（clustering coefficient）\n",
        "clustering_coeff = nx.average_clustering(largest_subgraph)\n",
        "# 计算链接密度（link density）\n",
        "link_density = nx.density(largest_subgraph)\n",
        "print(f\"聚类系数: {clustering_coeff}\")\n",
        "print(f\"链接密度: {link_density}\")"
      ]
    },
    {
      "cell_type": "code",
      "execution_count": null,
      "id": "af082d3c-d363-4c8d-97ac-0958c697f15a",
      "metadata": {
        "colab": {
          "base_uri": "https://localhost:8080/"
        },
        "id": "af082d3c-d363-4c8d-97ac-0958c697f15a",
        "outputId": "ca0eae88-fee7-454a-e489-f2029193aae8"
      },
      "outputs": [
        {
          "output_type": "stream",
          "name": "stdout",
          "text": [
            "聚类系数: 0.06163099243325019\n",
            "链接密度: 0.000399648508307797\n"
          ]
        }
      ],
      "source": [
        "clustering_coeff = nx.average_clustering(G_Euka)\n",
        "# 计算链接密度（link density）\n",
        "link_density = nx.density(G_Euka)\n",
        "print(f\"聚类系数: {clustering_coeff}\")\n",
        "print(f\"链接密度: {link_density}\")"
      ]
    },
    {
      "cell_type": "code",
      "execution_count": null,
      "id": "0ba419df-35a4-44f1-9b24-723e143f6062",
      "metadata": {
        "id": "0ba419df-35a4-44f1-9b24-723e143f6062"
      },
      "outputs": [],
      "source": [
        "def print_dataset_label_statistic(labels):\n",
        "    # 计算每行的非零元素个数\n",
        "    nonzero_counts = torch.count_nonzero(labels, dim=1)\n",
        "\n",
        "    # 转换为浮点数类型，以便进行平均值计算\n",
        "    nonzero_counts_float = nonzero_counts.float()\n",
        "\n",
        "    # 计算非零元素个数的最小值、平均值、中位数和最大值\n",
        "    min_count = torch.min(nonzero_counts).item()\n",
        "    mean_count = torch.mean(nonzero_counts_float).item()\n",
        "    median_count = torch.median(nonzero_counts.float()).item()\n",
        "    max_count = torch.max(nonzero_counts).item()\n",
        "\n",
        "    # 打印结果\n",
        "    print(\"每行非零元素个数的最小值:\", min_count)\n",
        "    print(\"每行非零元素个数的平均值:\", mean_count)\n",
        "    print(\"每行非零元素个数的中位数:\", median_count)\n",
        "    print(\"每行非零元素个数的最大值:\", max_count)"
      ]
    },
    {
      "cell_type": "code",
      "execution_count": null,
      "id": "7292aa94-4afe-4724-b0cd-c8d6dfdfd485",
      "metadata": {
        "colab": {
          "base_uri": "https://localhost:8080/"
        },
        "id": "7292aa94-4afe-4724-b0cd-c8d6dfdfd485",
        "outputId": "8fcdec84-20c4-4c25-d535-fe2509ea223e"
      },
      "outputs": [
        {
          "output_type": "stream",
          "name": "stdout",
          "text": [
            "每行非零元素个数的最小值: 1\n",
            "每行非零元素个数的平均值: 1.1855844259262085\n",
            "每行非零元素个数的中位数: 1.0\n",
            "每行非零元素个数的最大值: 4\n"
          ]
        }
      ],
      "source": [
        "# 最大连通量的label分布\n",
        "selected_labels_largest_cc = labels[torch.tensor(list(largest_cc))]\n",
        "print_dataset_label_statistic(selected_labels_largest_cc)"
      ]
    },
    {
      "cell_type": "code",
      "execution_count": null,
      "id": "551ec71d-13d8-48b4-9da0-659efee1edb8",
      "metadata": {
        "colab": {
          "base_uri": "https://localhost:8080/"
        },
        "id": "551ec71d-13d8-48b4-9da0-659efee1edb8",
        "outputId": "39eeb69a-93f0-42a2-a8fe-22b593cbb904"
      },
      "outputs": [
        {
          "output_type": "stream",
          "name": "stdout",
          "text": [
            "每行非零元素个数的最小值: 1\n",
            "每行非零元素个数的平均值: 1.1209088563919067\n",
            "每行非零元素个数的中位数: 1.0\n",
            "每行非零元素个数的最大值: 4\n"
          ]
        }
      ],
      "source": [
        "# 最大连通量的label分布\n",
        "selected_labels_remaining = labels[torch.tensor(list(G_remaining.nodes))]\n",
        "print_dataset_label_statistic(selected_labels_remaining)"
      ]
    },
    {
      "cell_type": "code",
      "execution_count": null,
      "id": "38eb98f1-2738-4f37-a780-e21df14469b3",
      "metadata": {
        "id": "38eb98f1-2738-4f37-a780-e21df14469b3"
      },
      "outputs": [],
      "source": [
        "def find_columns_with_ones(tensor):\n",
        "    num_rows, num_cols = tensor.shape\n",
        "    columns_with_ones = set()\n",
        "\n",
        "    for row_idx in range(num_rows):\n",
        "        row = tensor[row_idx]\n",
        "        indices = np.where(row == 1)[0]  # 找到每行中值为1的索引\n",
        "        columns_with_ones.update(indices)  # 将索引添加到集合中\n",
        "    return list(columns_with_ones)"
      ]
    },
    {
      "cell_type": "code",
      "execution_count": null,
      "id": "2f64c058-ed27-463d-8d4b-54873d6b8e4b",
      "metadata": {
        "colab": {
          "base_uri": "https://localhost:8080/"
        },
        "id": "2f64c058-ed27-463d-8d4b-54873d6b8e4b",
        "outputId": "c42ede31-dbc7-44ce-c042-dd60106213a3"
      },
      "outputs": [
        {
          "output_type": "stream",
          "name": "stdout",
          "text": [
            "Columns with ones count-lcc:\n"
          ]
        },
        {
          "output_type": "execute_result",
          "data": {
            "text/plain": [
              "[0, 1, 2, 3, 6, 7, 8, 9, 10, 11, 13, 14, 15, 16, 17, 18, 19, 20, 21]"
            ]
          },
          "metadata": {},
          "execution_count": 18
        }
      ],
      "source": [
        "columns_count_lcc = find_columns_with_ones(selected_labels_largest_cc)\n",
        "print(\"Columns with ones count-lcc:\")\n",
        "columns_count_lcc"
      ]
    },
    {
      "cell_type": "code",
      "execution_count": null,
      "id": "227640c6-aec8-4a87-901c-f60cf6463cf1",
      "metadata": {
        "colab": {
          "base_uri": "https://localhost:8080/"
        },
        "id": "227640c6-aec8-4a87-901c-f60cf6463cf1",
        "outputId": "099aca0f-cd01-45f1-e86f-eb78ce4ae9aa"
      },
      "outputs": [
        {
          "output_type": "stream",
          "name": "stdout",
          "text": [
            "Columns with ones count-remaining:\n"
          ]
        },
        {
          "output_type": "execute_result",
          "data": {
            "text/plain": [
              "[0, 1, 2, 3, 4, 5, 6, 7, 8, 9, 10, 11, 12, 13, 14, 15, 16, 17, 18, 19, 20, 21]"
            ]
          },
          "metadata": {},
          "execution_count": 19
        }
      ],
      "source": [
        "columns_count_remaining = find_columns_with_ones(selected_labels_remaining)\n",
        "print(\"Columns with ones count-remaining:\")\n",
        "columns_count_remaining"
      ]
    },
    {
      "cell_type": "markdown",
      "id": "7063922b-801f-416e-948f-5547c40e13e6",
      "metadata": {
        "id": "7063922b-801f-416e-948f-5547c40e13e6"
      },
      "source": [
        "From this we infer that most of topology information and classes information has been covered by largest connected components"
      ]
    },
    {
      "cell_type": "markdown",
      "id": "77398c1f-2814-41b4-81bc-2996125f2e72",
      "metadata": {
        "id": "77398c1f-2814-41b4-81bc-2996125f2e72"
      },
      "source": [
        "Now we will use the topology information from largest connected component and some adding nodes from the remaining class (so the model can identify this kind of class)"
      ]
    },
    {
      "cell_type": "code",
      "execution_count": null,
      "id": "35979655-794f-47c3-8ae4-f90ce59807be",
      "metadata": {
        "colab": {
          "base_uri": "https://localhost:8080/"
        },
        "id": "35979655-794f-47c3-8ae4-f90ce59807be",
        "outputId": "ea841569-fc76-4eb9-dcff-cc98a7d8ed07"
      },
      "outputs": [
        {
          "output_type": "execute_result",
          "data": {
            "text/plain": [
              "tensor([False,  True, False,  ..., False, False, False])"
            ]
          },
          "metadata": {},
          "execution_count": 20
        }
      ],
      "source": [
        "#only modifying training_mask, 对training_mask做进一步挑选，挑选出只在largest connected component 出现过的节点\n",
        "def update_train_mask(train_mask, node_list):\n",
        "    node_set = set(node_list)  # 将node_list转换为集合以便快速查找\n",
        "    updated_mask = train_mask.clone()  # 复制 train_mask，以免修改原始数据\n",
        "    for idx in range(train_mask.size(0)):\n",
        "        if updated_mask[idx] and idx not in node_set:\n",
        "            updated_mask[idx] = False\n",
        "    return updated_mask\n",
        "\n",
        "# 示例用法\n",
        "# 假设 Euka.train_mask 是一个 PyTorch 张量，largest_cc 是一个列表\n",
        "train_mask_lcc = update_train_mask(Euka.train_mask, list(largest_cc))\n",
        "train_mask_lcc"
      ]
    },
    {
      "cell_type": "code",
      "execution_count": null,
      "id": "0e23fbc6-b1ee-40f3-944c-e2a503fa47c1",
      "metadata": {
        "colab": {
          "base_uri": "https://localhost:8080/"
        },
        "id": "0e23fbc6-b1ee-40f3-944c-e2a503fa47c1",
        "outputId": "066c6a1a-5dc8-4105-9380-830ea283a350"
      },
      "outputs": [
        {
          "output_type": "stream",
          "name": "stdout",
          "text": [
            "Number of True values: 1620\n",
            "Number of True values: 4192\n"
          ]
        }
      ],
      "source": [
        "train_mask = Euka.train_mask\n",
        "test_mask = Euka.test_mask\n",
        "def count_true_values(tensor):\n",
        "    return tensor.sum().item()\n",
        "true_count_lcc = count_true_values(train_mask_lcc)\n",
        "print(\"Number of True values:\", true_count_lcc)\n",
        "true_count_original = count_true_values(train_mask)\n",
        "print(\"Number of True values:\", true_count_original)\n",
        "#训练数据大幅度缩减"
      ]
    },
    {
      "cell_type": "code",
      "execution_count": null,
      "id": "46efd54b-afa6-455e-8110-15841283b8de",
      "metadata": {
        "colab": {
          "base_uri": "https://localhost:8080/"
        },
        "id": "46efd54b-afa6-455e-8110-15841283b8de",
        "outputId": "7969031a-4281-411c-e5b9-9b5bacf27016"
      },
      "outputs": [
        {
          "output_type": "execute_result",
          "data": {
            "text/plain": [
              "Data(x=[7766, 32], edge_index=[2, 27636], y=[7766, 22], train_mask=[7766], val_mask=[7766], test_mask=[7766], num_nodes=7766, n_id=[7766], y_pad=[7766, 22])"
            ]
          },
          "metadata": {},
          "execution_count": 22
        }
      ],
      "source": [
        "Euka"
      ]
    },
    {
      "cell_type": "code",
      "execution_count": null,
      "id": "7723633c-1391-479e-949a-7c5bf12b95a8",
      "metadata": {
        "id": "7723633c-1391-479e-949a-7c5bf12b95a8"
      },
      "outputs": [],
      "source": [
        "import torch.nn as nn\n",
        "from torch_geometric.nn import GCNConv\n",
        "from torch_geometric.nn import GATConv\n",
        "from torch_geometric.nn import SAGEConv\n",
        "# for mini-batch training\n",
        "from torch_geometric.loader import NeighborLoader\n",
        "from torch_geometric.nn import Node2Vec\n",
        "# For GraphSage\n",
        "class GCN(torch.nn.Module):\n",
        "    def __init__(self, hidden_channels):\n",
        "        super(GCN, self).__init__()\n",
        "        torch.manual_seed(42)\n",
        "        self.conv1 = GCNConv(Euka.x.shape[1], hidden_channels)\n",
        "        self.conv2 = GCNConv(hidden_channels, Euka.y.shape[1])\n",
        "\n",
        "    def forward(self, data):\n",
        "        x, edge_index = data.x, data.edge_index\n",
        "        x = self.conv1(x, edge_index)\n",
        "        x = x.relu()\n",
        "        x = self.conv2(x, edge_index)\n",
        "        x = F.log_softmax(x, dim=1)\n",
        "        return x\n",
        "\n",
        "class GAT(nn.Module):\n",
        "    def __init__(self, hidden_channels, num_heads, dropout=0.5):\n",
        "        super(GAT, self).__init__()\n",
        "        self.conv1 = GATConv(Euka.x.shape[1], hidden_channels, heads=num_heads, dropout=dropout)\n",
        "        self.conv2 = GATConv(hidden_channels * num_heads, Euka.y.shape[1], heads=num_heads, concat=False, dropout=dropout)\n",
        "\n",
        "    def forward(self, data):\n",
        "        x, edge_index = data.x, data.edge_index\n",
        "        x = F.dropout(x, p=0.5, training=self.training)\n",
        "        x = F.elu(self.conv1(x, edge_index))\n",
        "        x = F.dropout(x, p=0.5, training=self.training)\n",
        "        x = self.conv2(x, edge_index)\n",
        "        return x\n",
        "\n",
        "class SAGE(torch.nn.Module):\n",
        "    def __init__(self, in_channels, hidden_channels, class_channels, num_layers=2):\n",
        "        super().__init__()\n",
        "        self.num_layers = num_layers\n",
        "        self.convs = torch.nn.ModuleList()\n",
        "        self.convs.append(SAGEConv(in_channels, hidden_channels))\n",
        "        self.convs.append(SAGEConv(hidden_channels, class_channels))\n",
        "\n",
        "    def forward(self, x, edge_index):\n",
        "        for i, conv in enumerate(self.convs):\n",
        "            x = conv(x, edge_index)\n",
        "            if i < len(self.convs) - 1:\n",
        "                x = x.relu_()\n",
        "                x = F.dropout(x, p=0.5, training=self.training)\n",
        "        return F.sigmoid(x)\n",
        "\n",
        "    @torch.no_grad()\n",
        "    def inference(self, x_all, subgraph_loader):\n",
        "        for i, conv in enumerate(self.convs):\n",
        "            xs = []\n",
        "            for batch in subgraph_loader:\n",
        "                x = x_all[batch.n_id.to(x_all.device)].to(device)\n",
        "                x = conv(x, batch.edge_index.to(device))\n",
        "                if i < len(self.convs) - 1:\n",
        "                    x = x.relu_()\n",
        "                xs.append(x[:batch.batch_size].cpu())\n",
        "            x_all = torch.cat(xs, dim=0)\n",
        "        return F.sigmoid(x_all)\n",
        "\n"
      ]
    },
    {
      "cell_type": "code",
      "execution_count": null,
      "id": "cbc843b0-c6bf-4f39-8820-c883e687e2a6",
      "metadata": {
        "id": "cbc843b0-c6bf-4f39-8820-c883e687e2a6"
      },
      "outputs": [],
      "source": [
        "# decide what kind of model you would like to use\n",
        "#GCN\n",
        "model_lcc = GCN(hidden_channels=32)\n",
        "#GAT\n",
        "hidden_channels = 32\n",
        "num_heads = 2\n",
        "gat_model_lcc = GAT(hidden_channels, num_heads)\n",
        "#Graph SAGE\n",
        "model_SAGE_lcc = SAGE(in_channels=Euka.x.shape[1],\n",
        "                 hidden_channels=32,\n",
        "                 class_channels=Euka.y.shape[1],\n",
        "                 )"
      ]
    },
    {
      "cell_type": "code",
      "execution_count": null,
      "id": "5330d95e-31b0-4dd1-9428-37247c98a076",
      "metadata": {
        "id": "5330d95e-31b0-4dd1-9428-37247c98a076"
      },
      "outputs": [],
      "source": [
        "optimizer = torch.optim.Adam(model_SAGE_lcc.parameters(), lr=0.001, weight_decay=5e-4)\n",
        "criterion = torch.nn.BCEWithLogitsLoss()"
      ]
    },
    {
      "cell_type": "code",
      "execution_count": null,
      "id": "da506aa2-0609-4c62-903c-d4e474200cb3",
      "metadata": {
        "id": "da506aa2-0609-4c62-903c-d4e474200cb3"
      },
      "outputs": [],
      "source": [
        "# Training function\n",
        "from metrics import f1_loss,_eval_rocauc,ap_score\n",
        "\n",
        "def train_lcc(model_lcc):\n",
        "    model_lcc.train()\n",
        "    optimizer.zero_grad()\n",
        "    out = model_lcc(Euka)\n",
        "    loss = criterion(out[train_mask_lcc], Euka.y[train_mask_lcc])\n",
        "    loss.backward()\n",
        "    optimizer.step()\n",
        "    return loss\n",
        "\n",
        "def train_lcc_enrich(model_lcc_enrich):\n",
        "    model_lcc_enrich.train()\n",
        "    optimizer.zero_grad()\n",
        "    out = model_lcc_enrich(Euka)\n",
        "    loss = criterion(out[train_mask_lcc_enriching], Euka.y[train_mask_lcc_enriching])\n",
        "    loss.backward()\n",
        "    optimizer.step()\n",
        "    return loss\n",
        "\n",
        "def train_normal(model_normal):\n",
        "    model_normal.train()\n",
        "    optimizer.zero_grad()\n",
        "    out = model_normal(Euka)\n",
        "    loss = criterion(out[train_mask], Euka.y[train_mask])\n",
        "    loss.backward()\n",
        "    optimizer.step()\n",
        "    return loss\n",
        "\n",
        "# Testing function\n",
        "def test(model):\n",
        "    model.eval()\n",
        "    out = model(Euka)\n",
        "    true_labels = Euka.y[test_mask]\n",
        "    micro_f1,macro_f1 = f1_loss(true_labels, out[test_mask])\n",
        "    macro_AUC_ROC = _eval_rocauc(true_labels, out[test_mask])\n",
        "    ap_score_1 = ap_score(true_labels, out[test_mask])\n",
        "    return micro_f1,macro_f1,macro_AUC_ROC,ap_score_1"
      ]
    },
    {
      "cell_type": "code",
      "execution_count": null,
      "id": "d671ded8-8fc2-4bf9-8e27-5638ca7373d6",
      "metadata": {
        "id": "d671ded8-8fc2-4bf9-8e27-5638ca7373d6"
      },
      "outputs": [],
      "source": [
        "# GraphSage的掩码配置在loader中，不在训练函数里\n",
        "def train_GraphSage(model, loader):\n",
        "  model.train()\n",
        "  total_loss = 0\n",
        "  for data in loader:\n",
        "    optimizer.zero_grad()\n",
        "    output = model(data.x, data.edge_index)\n",
        "    loss = criterion(output, data.y)  # Assuming classification task\n",
        "    loss.backward()\n",
        "    optimizer.step()\n",
        "    total_loss += loss.item()\n",
        "  return total_loss / len(loader)\n",
        "\n",
        "def test_GraphSage(model, loader):\n",
        "    model.eval()\n",
        "    all_preds = []\n",
        "    all_labels = []\n",
        "\n",
        "    with torch.no_grad():\n",
        "        for data in loader:\n",
        "            output = model(data.x, data.edge_index)\n",
        "            all_preds.append(output)\n",
        "            all_labels.append(data.y)\n",
        "\n",
        "    all_preds = torch.cat(all_preds, dim=0)\n",
        "    all_labels = torch.cat(all_labels, dim=0)\n",
        "\n",
        "    micro_f1, macro_f1 = f1_loss(all_labels, all_preds)\n",
        "    macro_AUC_ROC = _eval_rocauc(all_labels, all_preds)\n",
        "    ap_score_1 = ap_score(all_labels, all_preds)\n",
        "\n",
        "    return micro_f1, macro_f1, macro_AUC_ROC, ap_score_1\n",
        "\n"
      ]
    },
    {
      "cell_type": "code",
      "source": [
        "# import the libraries\n",
        "import torch\n",
        "import numpy as np\n",
        "import networkx as nx\n",
        "import matplotlib.pyplot as plt\n",
        "import matplotlib.image as mpimg\n",
        "\n",
        "\n",
        "import copy\n",
        "import os.path as osp\n",
        "import torch_sparse\n",
        "import torch\n",
        "from torch.nn import ModuleList\n",
        "import torch.nn.functional as F\n",
        "from torch_geometric.nn import APPNP\n",
        "from torch_geometric.nn import MessagePassing\n",
        "from torch_geometric.nn import GCNConv, SAGEConv, ClusterGCNConv\n",
        "\n",
        "from torch_geometric.explain import Explainer, GNNExplainer\n",
        "from torch_geometric.utils import k_hop_subgraph\n",
        "from torch_geometric.loader import ClusterData, ClusterLoader, NeighborLoader,NeighborSampler\n",
        "\n",
        "# import the functions\n",
        "from numpy import dot\n",
        "import torch.nn as nn\n",
        "from sklearn import metrics\n",
        "from numpy.linalg import norm\n",
        "import tqdm\n",
        "from sklearn.metrics import precision_recall_curve\n",
        "from sklearn.metrics import average_precision_score\n",
        "from sklearn.model_selection import train_test_split\n",
        "\n",
        "from torch_geometric.loader import NeighborLoader\n",
        "train_loader_lcc = NeighborLoader(Euka,input_nodes=train_mask_lcc,\n",
        "                              num_neighbors=[5, 3],\n",
        "                              shuffle=True, batch_size = 512)\n",
        "train_loader = NeighborLoader(Euka,input_nodes=train_mask,\n",
        "                              num_neighbors=[5, 3],\n",
        "                              shuffle=True, batch_size = 512)\n",
        "test_loader = NeighborLoader(\n",
        "    Euka,\n",
        "    num_neighbors=[5, 3],\n",
        "    batch_size=512,\n",
        "    input_nodes=Euka.test_mask\n",
        ")\n"
      ],
      "metadata": {
        "id": "-bJCUIZZQIvY"
      },
      "id": "-bJCUIZZQIvY",
      "execution_count": null,
      "outputs": []
    },
    {
      "cell_type": "code",
      "execution_count": null,
      "id": "f9ec6035-51a0-4f57-a3f0-9191675a71c6",
      "metadata": {
        "colab": {
          "base_uri": "https://localhost:8080/"
        },
        "id": "f9ec6035-51a0-4f57-a3f0-9191675a71c6",
        "outputId": "bc3b2c8a-a7e7-4a49-9ca0-395eda5a8220"
      },
      "outputs": [
        {
          "output_type": "stream",
          "name": "stdout",
          "text": [
            "Epoch: 001, Loss: 0.9215\n",
            "Epoch: 002, Loss: 0.8788\n",
            "Epoch: 003, Loss: 0.8372\n",
            "Epoch: 004, Loss: 0.7997\n",
            "Epoch: 005, Loss: 0.7683\n",
            "Epoch: 006, Loss: 0.7470\n",
            "Epoch: 007, Loss: 0.7325\n",
            "Epoch: 008, Loss: 0.7225\n",
            "Epoch: 009, Loss: 0.7148\n",
            "Epoch: 010, Loss: 0.7100\n",
            "Epoch: 011, Loss: 0.7070\n",
            "Epoch: 012, Loss: 0.7041\n",
            "Epoch: 013, Loss: 0.7019\n",
            "Epoch: 014, Loss: 0.7007\n",
            "Epoch: 015, Loss: 0.6994\n",
            "Epoch: 016, Loss: 0.6985\n",
            "Epoch: 017, Loss: 0.6981\n",
            "Epoch: 018, Loss: 0.6973\n",
            "Epoch: 019, Loss: 0.6971\n",
            "Epoch: 020, Loss: 0.6966\n",
            "Epoch: 021, Loss: 0.6962\n",
            "Epoch: 022, Loss: 0.6961\n",
            "Epoch: 023, Loss: 0.6958\n",
            "Epoch: 024, Loss: 0.6956\n",
            "Epoch: 025, Loss: 0.6954\n",
            "Epoch: 026, Loss: 0.6953\n",
            "Epoch: 027, Loss: 0.6953\n",
            "Epoch: 028, Loss: 0.6951\n",
            "Epoch: 029, Loss: 0.6950\n",
            "Epoch: 030, Loss: 0.6949\n",
            "Epoch: 031, Loss: 0.6949\n",
            "Epoch: 032, Loss: 0.6948\n",
            "Epoch: 033, Loss: 0.6947\n",
            "Epoch: 034, Loss: 0.6948\n",
            "Epoch: 035, Loss: 0.6946\n",
            "Epoch: 036, Loss: 0.6946\n",
            "Epoch: 037, Loss: 0.6946\n",
            "Epoch: 038, Loss: 0.6945\n",
            "Epoch: 039, Loss: 0.6945\n",
            "Epoch: 040, Loss: 0.6944\n",
            "Epoch: 041, Loss: 0.6944\n",
            "Epoch: 042, Loss: 0.6944\n",
            "Epoch: 043, Loss: 0.6945\n",
            "Epoch: 044, Loss: 0.6944\n",
            "Epoch: 045, Loss: 0.6944\n",
            "Epoch: 046, Loss: 0.6943\n",
            "Epoch: 047, Loss: 0.6943\n",
            "Epoch: 048, Loss: 0.6943\n",
            "Epoch: 049, Loss: 0.6943\n",
            "Epoch: 050, Loss: 0.6943\n",
            "Epoch: 051, Loss: 0.6943\n",
            "Epoch: 052, Loss: 0.6943\n",
            "Epoch: 053, Loss: 0.6942\n",
            "Epoch: 054, Loss: 0.6943\n",
            "Epoch: 055, Loss: 0.6942\n",
            "Epoch: 056, Loss: 0.6943\n",
            "Epoch: 057, Loss: 0.6942\n",
            "Epoch: 058, Loss: 0.6942\n",
            "Epoch: 059, Loss: 0.6942\n",
            "Epoch: 060, Loss: 0.6942\n",
            "Epoch: 061, Loss: 0.6942\n",
            "Epoch: 062, Loss: 0.6942\n",
            "Epoch: 063, Loss: 0.6942\n",
            "Epoch: 064, Loss: 0.6942\n",
            "Epoch: 065, Loss: 0.6942\n",
            "Epoch: 066, Loss: 0.6942\n",
            "Epoch: 067, Loss: 0.6941\n",
            "Epoch: 068, Loss: 0.6941\n",
            "Epoch: 069, Loss: 0.6942\n",
            "Epoch: 070, Loss: 0.6942\n",
            "Epoch: 071, Loss: 0.6941\n",
            "Epoch: 072, Loss: 0.6942\n",
            "Epoch: 073, Loss: 0.6942\n",
            "Epoch: 074, Loss: 0.6942\n",
            "Epoch: 075, Loss: 0.6942\n",
            "Epoch: 076, Loss: 0.6942\n",
            "Epoch: 077, Loss: 0.6941\n",
            "Epoch: 078, Loss: 0.6941\n",
            "Epoch: 079, Loss: 0.6942\n",
            "Epoch: 080, Loss: 0.6941\n",
            "Epoch: 081, Loss: 0.6941\n",
            "Epoch: 082, Loss: 0.6941\n",
            "Epoch: 083, Loss: 0.6941\n",
            "Epoch: 084, Loss: 0.6942\n",
            "Epoch: 085, Loss: 0.6941\n",
            "Epoch: 086, Loss: 0.6941\n",
            "Epoch: 087, Loss: 0.6941\n",
            "Epoch: 088, Loss: 0.6941\n",
            "Epoch: 089, Loss: 0.6941\n",
            "Epoch: 090, Loss: 0.6941\n",
            "Epoch: 091, Loss: 0.6941\n",
            "Epoch: 092, Loss: 0.6940\n",
            "Epoch: 093, Loss: 0.6941\n",
            "Epoch: 094, Loss: 0.6941\n",
            "Epoch: 095, Loss: 0.6941\n",
            "Epoch: 096, Loss: 0.6941\n",
            "Epoch: 097, Loss: 0.6941\n",
            "Epoch: 098, Loss: 0.6941\n",
            "Epoch: 099, Loss: 0.6941\n",
            "Epoch: 100, Loss: 0.6941\n",
            "Epoch: 101, Loss: 0.6941\n",
            "Epoch: 102, Loss: 0.6941\n",
            "Epoch: 103, Loss: 0.6941\n",
            "Epoch: 104, Loss: 0.6941\n",
            "Epoch: 105, Loss: 0.6940\n",
            "Epoch: 106, Loss: 0.6941\n",
            "Epoch: 107, Loss: 0.6941\n",
            "Epoch: 108, Loss: 0.6941\n",
            "Epoch: 109, Loss: 0.6941\n",
            "Epoch: 110, Loss: 0.6940\n",
            "Epoch: 111, Loss: 0.6940\n",
            "Epoch: 112, Loss: 0.6941\n",
            "Epoch: 113, Loss: 0.6941\n",
            "Epoch: 114, Loss: 0.6940\n",
            "Epoch: 115, Loss: 0.6941\n",
            "Epoch: 116, Loss: 0.6941\n",
            "Epoch: 117, Loss: 0.6940\n",
            "Epoch: 118, Loss: 0.6940\n",
            "Epoch: 119, Loss: 0.6940\n",
            "Epoch: 120, Loss: 0.6940\n",
            "Epoch: 121, Loss: 0.6941\n",
            "Epoch: 122, Loss: 0.6940\n",
            "Epoch: 123, Loss: 0.6941\n",
            "Epoch: 124, Loss: 0.6941\n",
            "Epoch: 125, Loss: 0.6941\n",
            "Epoch: 126, Loss: 0.6941\n",
            "Epoch: 127, Loss: 0.6940\n",
            "Epoch: 128, Loss: 0.6940\n",
            "Epoch: 129, Loss: 0.6940\n",
            "Epoch: 130, Loss: 0.6940\n",
            "Epoch: 131, Loss: 0.6940\n",
            "Epoch: 132, Loss: 0.6941\n",
            "Epoch: 133, Loss: 0.6940\n",
            "Epoch: 134, Loss: 0.6940\n",
            "Epoch: 135, Loss: 0.6941\n",
            "Epoch: 136, Loss: 0.6941\n",
            "Epoch: 137, Loss: 0.6940\n",
            "Epoch: 138, Loss: 0.6940\n",
            "Epoch: 139, Loss: 0.6940\n",
            "Epoch: 140, Loss: 0.6940\n",
            "Epoch: 141, Loss: 0.6940\n",
            "Epoch: 142, Loss: 0.6940\n",
            "Epoch: 143, Loss: 0.6940\n",
            "Epoch: 144, Loss: 0.6940\n",
            "Epoch: 145, Loss: 0.6940\n",
            "Epoch: 146, Loss: 0.6940\n",
            "Epoch: 147, Loss: 0.6941\n",
            "Epoch: 148, Loss: 0.6940\n",
            "Epoch: 149, Loss: 0.6940\n",
            "Epoch: 150, Loss: 0.6940\n",
            "Epoch: 151, Loss: 0.6940\n",
            "Epoch: 152, Loss: 0.6940\n",
            "Epoch: 153, Loss: 0.6940\n",
            "Epoch: 154, Loss: 0.6940\n",
            "Epoch: 155, Loss: 0.6941\n",
            "Epoch: 156, Loss: 0.6940\n",
            "Epoch: 157, Loss: 0.6940\n",
            "Epoch: 158, Loss: 0.6940\n",
            "Epoch: 159, Loss: 0.6940\n",
            "Epoch: 160, Loss: 0.6940\n",
            "Epoch: 161, Loss: 0.6940\n",
            "Epoch: 162, Loss: 0.6940\n",
            "Epoch: 163, Loss: 0.6940\n",
            "Epoch: 164, Loss: 0.6940\n",
            "Epoch: 165, Loss: 0.6940\n",
            "Epoch: 166, Loss: 0.6940\n",
            "Epoch: 167, Loss: 0.6940\n",
            "Epoch: 168, Loss: 0.6940\n",
            "Epoch: 169, Loss: 0.6940\n",
            "Epoch: 170, Loss: 0.6940\n",
            "Epoch: 171, Loss: 0.6940\n",
            "Epoch: 172, Loss: 0.6940\n",
            "Epoch: 173, Loss: 0.6940\n",
            "Epoch: 174, Loss: 0.6940\n",
            "Epoch: 175, Loss: 0.6940\n",
            "Epoch: 176, Loss: 0.6940\n",
            "Epoch: 177, Loss: 0.6940\n",
            "Epoch: 178, Loss: 0.6940\n",
            "Epoch: 179, Loss: 0.6940\n",
            "Epoch: 180, Loss: 0.6940\n",
            "Epoch: 181, Loss: 0.6940\n",
            "Epoch: 182, Loss: 0.6940\n",
            "Epoch: 183, Loss: 0.6940\n",
            "Epoch: 184, Loss: 0.6939\n",
            "Epoch: 185, Loss: 0.6940\n",
            "Epoch: 186, Loss: 0.6940\n",
            "Epoch: 187, Loss: 0.6940\n",
            "Epoch: 188, Loss: 0.6940\n",
            "Epoch: 189, Loss: 0.6940\n",
            "Epoch: 190, Loss: 0.6940\n",
            "Epoch: 191, Loss: 0.6940\n",
            "Epoch: 192, Loss: 0.6940\n",
            "Epoch: 193, Loss: 0.6940\n",
            "Epoch: 194, Loss: 0.6940\n",
            "Epoch: 195, Loss: 0.6940\n",
            "Epoch: 196, Loss: 0.6940\n",
            "Epoch: 197, Loss: 0.6940\n",
            "Epoch: 198, Loss: 0.6940\n",
            "Epoch: 199, Loss: 0.6940\n"
          ]
        }
      ],
      "source": [
        "# Train function for GraphSage\n",
        "epochs = list(range(1, 200))\n",
        "total_loss = []\n",
        "for epoch in epochs:\n",
        "  # decide on which loader to use\n",
        "  loss = train_GraphSage(model_SAGE_lcc,train_loader)\n",
        "  total_loss.append(float(loss))\n",
        "  print(f'Epoch: {epoch:03d}, Loss: {loss:.4f}')\n",
        "\n"
      ]
    },
    {
      "cell_type": "code",
      "source": [
        "import matplotlib.pyplot as plt\n",
        "plt.plot(epochs, total_loss)\n",
        "plt.xlabel('Epochs')\n",
        "plt.ylabel('BCE Loss')\n",
        "plt.ylabel('Training Loss for GCN - LCC')\n",
        "plt.show()"
      ],
      "metadata": {
        "colab": {
          "base_uri": "https://localhost:8080/",
          "height": 449
        },
        "id": "dUn2ciyiVYlx",
        "outputId": "96fa402c-e55e-42d3-f396-4955b53babfd"
      },
      "id": "dUn2ciyiVYlx",
      "execution_count": null,
      "outputs": [
        {
          "output_type": "display_data",
          "data": {
            "text/plain": [
              "<Figure size 640x480 with 1 Axes>"
            ],
            "image/png": "[encoded data removed]"
          },
          "metadata": {}
        }
      ]
    },
    {
      "cell_type": "code",
      "source": [
        "micro_f1,macro_f1,macro_AUC_ROC,ap_score_1 = test_GraphSage(model_SAGE_lcc, test_loader)\n",
        "print(\"micro_f1:\", micro_f1)\n",
        "print(\"macro_f1:\", macro_f1)\n",
        "print(\"macro_AUC_ROC:\", macro_AUC_ROC)\n",
        "print(\"ap_score:\", ap_score_1)"
      ],
      "metadata": {
        "colab": {
          "base_uri": "https://localhost:8080/"
        },
        "id": "OIgVU84dXhVV",
        "outputId": "52e75125-3558-4110-c24b-f6687438739d"
      },
      "id": "OIgVU84dXhVV",
      "execution_count": null,
      "outputs": [
        {
          "output_type": "stream",
          "name": "stdout",
          "text": [
            "micro_f1: 0.3761524277811924\n",
            "macro_f1: 0.042823485243878495\n",
            "macro_AUC_ROC: 0.5264783948000086\n",
            "ap_score: 0.057392981817919325\n"
          ]
        }
      ]
    },
    {
      "cell_type": "code",
      "execution_count": null,
      "id": "c4216040-601b-4c9c-9aaa-1fcd436fe4e9",
      "metadata": {
        "id": "c4216040-601b-4c9c-9aaa-1fcd436fe4e9"
      },
      "outputs": [],
      "source": [
        "# Train loop\n",
        "epochs = list(range(1, 200))\n",
        "total_loss = []\n",
        "for epoch in epochs:\n",
        "  loss = train_lcc(gat_model_lcc)\n",
        "  total_loss.append(float(loss))\n",
        "  print(f'Epoch: {epoch:03d}, Loss: {loss:.4f}')"
      ]
    },
    {
      "cell_type": "code",
      "execution_count": null,
      "id": "81fce3be-7342-4b9d-aa3b-9d3bc31c06fe",
      "metadata": {
        "id": "81fce3be-7342-4b9d-aa3b-9d3bc31c06fe"
      },
      "outputs": [],
      "source": [
        "import matplotlib.pyplot as plt\n",
        "plt.plot(epochs, total_loss)\n",
        "plt.xlabel('Epochs')\n",
        "plt.ylabel('BCE Loss')\n",
        "plt.ylabel('Training Loss for GCN - LCC')\n",
        "plt.show()"
      ]
    },
    {
      "cell_type": "code",
      "execution_count": null,
      "id": "69dd9205-8152-47aa-ad6c-3472dd702e3a",
      "metadata": {
        "id": "69dd9205-8152-47aa-ad6c-3472dd702e3a"
      },
      "outputs": [],
      "source": [
        "micro_f1,macro_f1,macro_AUC_ROC,ap_score_1 = test(gat_model_lcc)\n",
        "print(\"micro_f1:\", micro_f1)\n",
        "print(\"macro_f1:\", macro_f1)\n",
        "print(\"macro_AUC_ROC:\", macro_AUC_ROC)\n",
        "print(\"ap_score:\", ap_score_1)"
      ]
    },
    {
      "cell_type": "code",
      "execution_count": null,
      "id": "33211c9f-3f65-4996-9b78-a85fae5cf159",
      "metadata": {
        "id": "33211c9f-3f65-4996-9b78-a85fae5cf159"
      },
      "outputs": [],
      "source": [
        "model_normal = GCN(hidden_channels=32)\n",
        "gat_model_normal = GAT(hidden_channels, num_heads)\n",
        "gat_model_normal = GAT(hidden_channels, num_heads)\n",
        "#Graph SAGE\n",
        "model_SAGE_normal = SAGE(in_channels=Euka.x.shape[1],\n",
        "                 hidden_channels=32,\n",
        "                 class_channels=Euka.y.shape[1],\n",
        "                 )"
      ]
    },
    {
      "cell_type": "code",
      "execution_count": null,
      "id": "f2e6924a-c7c9-4e5d-a701-2db3c86a8cd5",
      "metadata": {
        "id": "f2e6924a-c7c9-4e5d-a701-2db3c86a8cd5"
      },
      "outputs": [],
      "source": [
        "# decide which model to use\n",
        "optimizer = torch.optim.Adam(model_SAGE_normal.parameters(), lr=0.001, weight_decay=5e-4)\n",
        "criterion = torch.nn.BCEWithLogitsLoss()"
      ]
    },
    {
      "cell_type": "code",
      "execution_count": null,
      "id": "1ab57c23-4cc5-4da5-acf5-025bfbfbc4c2",
      "metadata": {
        "id": "1ab57c23-4cc5-4da5-acf5-025bfbfbc4c2"
      },
      "outputs": [],
      "source": [
        "# Train loop\n",
        "epochs = list(range(1, 200))\n",
        "total_loss = []\n",
        "for epoch in epochs:\n",
        "  loss = train_normal(gat_model_normal)\n",
        "  total_loss.append(float(loss))\n",
        "  print(f'Epoch: {epoch:03d}, Loss: {loss:.4f}')"
      ]
    },
    {
      "cell_type": "code",
      "execution_count": null,
      "id": "08fe0055-77cd-41cc-adb8-5551e2b90d14",
      "metadata": {
        "id": "08fe0055-77cd-41cc-adb8-5551e2b90d14"
      },
      "outputs": [],
      "source": [
        "import matplotlib.pyplot as plt\n",
        "plt.plot(epochs, total_loss)\n",
        "plt.xlabel('Epochs')\n",
        "plt.ylabel('BCE Loss')\n",
        "plt.ylabel('Training Loss for GCN - LCC')\n",
        "plt.show()"
      ]
    },
    {
      "cell_type": "code",
      "execution_count": null,
      "id": "53db1602-7b98-4a54-b27f-800d40a51d5e",
      "metadata": {
        "id": "53db1602-7b98-4a54-b27f-800d40a51d5e"
      },
      "outputs": [],
      "source": [
        "micro_f1,macro_f1,macro_AUC_ROC,ap_score_1 = test(gat_model_normal)\n",
        "print(\"micro_f1:\", micro_f1)\n",
        "print(\"macro_f1:\", macro_f1)\n",
        "print(\"macro_AUC_ROC:\", macro_AUC_ROC)\n",
        "print(\"ap_score:\", ap_score_1)"
      ]
    },
    {
      "cell_type": "code",
      "execution_count": null,
      "id": "8d1fa349-fee4-45be-af9b-8132a9f3b2f6",
      "metadata": {
        "colab": {
          "base_uri": "https://localhost:8080/"
        },
        "id": "8d1fa349-fee4-45be-af9b-8132a9f3b2f6",
        "outputId": "19a9c593-d540-400a-912f-18b639aace76"
      },
      "outputs": [
        {
          "output_type": "stream",
          "name": "stdout",
          "text": [
            "[4, 5, 12]\n"
          ]
        }
      ],
      "source": [
        "def list_difference(list1, list2):\n",
        "    # 将列表转换为集合，方便计算差异\n",
        "    set1 = set(list1)\n",
        "    set2 = set(list2)\n",
        "    # 计算两个集合的对称差\n",
        "    difference = set1.symmetric_difference(set2)\n",
        "    # 将结果转换为列表并返回\n",
        "    return list(difference)\n",
        "\n",
        "missing_label_index = list_difference(columns_count_lcc, list(range(Euka.y.shape[1])))\n",
        "print(missing_label_index)"
      ]
    },
    {
      "cell_type": "code",
      "execution_count": null,
      "id": "a3be3f97-04e0-4b65-8dec-7bb18dbc006a",
      "metadata": {
        "colab": {
          "base_uri": "https://localhost:8080/"
        },
        "id": "a3be3f97-04e0-4b65-8dec-7bb18dbc006a",
        "outputId": "19269dca-7165-4acb-fd3f-9af9e8e4c5df"
      },
      "outputs": [
        {
          "output_type": "execute_result",
          "data": {
            "text/plain": [
              "torch.Size([474])"
            ]
          },
          "metadata": {},
          "execution_count": 81
        }
      ],
      "source": [
        "def get_nonzero_row_indices(tensor, n):\n",
        "    # 检查第 n 列不为 0 的行\n",
        "    nonzero_indices = torch.nonzero(tensor[:, n]).squeeze()\n",
        "\n",
        "    # 返回行的索引\n",
        "    return nonzero_indices\n",
        "\n",
        "def sample_indices(indices, num_samples):\n",
        "    # 从 indices 中随机抽取 num_samples 个索引\n",
        "    sampled_indices = indices[torch.randint(len(indices), (num_samples,))]\n",
        "    return sampled_indices\n",
        "\n",
        "#num_samples = 100\n",
        "enriching_index = torch.tensor([])\n",
        "for column_index in missing_label_index:\n",
        "    nonzero_row_indices = get_nonzero_row_indices(labels, column_index)\n",
        "    enriching_index = torch.cat((enriching_index, nonzero_row_indices))\n",
        "unique_enriching_index = torch.unique(enriching_index)\n",
        "unique_enriching_index.shape"
      ]
    },
    {
      "cell_type": "code",
      "execution_count": null,
      "id": "97aec29f-ebca-43cd-85d2-e09b4fa5af58",
      "metadata": {
        "colab": {
          "base_uri": "https://localhost:8080/"
        },
        "id": "97aec29f-ebca-43cd-85d2-e09b4fa5af58",
        "outputId": "56aeab59-0fe6-453a-e4b8-b8795b514ba4"
      },
      "outputs": [
        {
          "output_type": "stream",
          "name": "stdout",
          "text": [
            "tensor([False,  True, False,  ..., False, False, False])\n",
            "Number of True values: 2094\n"
          ]
        }
      ],
      "source": [
        "#only modifying training_mask, 对training_mask做进一步挑选，挑选出只在largest connected component 出现过的节点\n",
        "def enrich_train_mask(train_mask, node_list):\n",
        "    node_set = set(node_list)  # 将node_list转换为集合以便快速查找\n",
        "    updated_mask = train_mask.clone()  # 复制 train_mask，以免修改原始数据\n",
        "    print(updated_mask)\n",
        "    for idx in range(train_mask.size(0)):\n",
        "        if (updated_mask[idx] == False) and (idx in node_set):\n",
        "            updated_mask[idx] = True\n",
        "    return updated_mask\n",
        "\n",
        "unique_enriching_index_list = [int(x) for x in unique_enriching_index.tolist()]\n",
        "train_mask_lcc_enriching = enrich_train_mask(train_mask_lcc, unique_enriching_index_list)\n",
        "true_count_enriching = count_true_values(train_mask_lcc_enriching)\n",
        "print(\"Number of True values:\", true_count_enriching)"
      ]
    },
    {
      "cell_type": "code",
      "execution_count": null,
      "id": "61c19a2d-15e8-4f87-9a08-ac2106759287",
      "metadata": {
        "id": "61c19a2d-15e8-4f87-9a08-ac2106759287"
      },
      "outputs": [],
      "source": [
        "model_lcc_enrich = GCN(hidden_channels=32)\n",
        "gat_model_enrich = GAT(hidden_channels, num_heads)\n",
        "model_SAGE_enrich = SAGE(in_channels=Euka.x.shape[1],\n",
        "                 hidden_channels=32,\n",
        "                 class_channels=Euka.y.shape[1],\n",
        "                 )\n",
        "\n",
        "train_loader_enrich = NeighborLoader(Euka,input_nodes=train_mask_lcc_enriching,\n",
        "                              num_neighbors=[5, 3],\n",
        "                              shuffle=True, batch_size = 512)"
      ]
    },
    {
      "cell_type": "code",
      "execution_count": null,
      "id": "3f36d6ba-c054-4f55-97b8-cb2df03db09f",
      "metadata": {
        "id": "3f36d6ba-c054-4f55-97b8-cb2df03db09f"
      },
      "outputs": [],
      "source": [
        "# decide which model to use\n",
        "optimizer = torch.optim.Adam(model_SAGE_enrich.parameters(), lr=0.001, weight_decay=5e-4)\n",
        "criterion = torch.nn.BCEWithLogitsLoss()"
      ]
    },
    {
      "cell_type": "code",
      "execution_count": null,
      "id": "58ad8b2a-b829-4cc3-a137-5cd06710ff51",
      "metadata": {
        "colab": {
          "base_uri": "https://localhost:8080/"
        },
        "id": "58ad8b2a-b829-4cc3-a137-5cd06710ff51",
        "outputId": "14e57c58-b914-4c2a-e87e-098c430655bf"
      },
      "outputs": [
        {
          "output_type": "stream",
          "name": "stdout",
          "text": [
            "Epoch: 001, Loss: 0.9284\n",
            "Epoch: 002, Loss: 0.9027\n",
            "Epoch: 003, Loss: 0.8767\n",
            "Epoch: 004, Loss: 0.8517\n",
            "Epoch: 005, Loss: 0.8263\n",
            "Epoch: 006, Loss: 0.8052\n",
            "Epoch: 007, Loss: 0.7833\n",
            "Epoch: 008, Loss: 0.7665\n",
            "Epoch: 009, Loss: 0.7530\n",
            "Epoch: 010, Loss: 0.7422\n",
            "Epoch: 011, Loss: 0.7345\n",
            "Epoch: 012, Loss: 0.7279\n",
            "Epoch: 013, Loss: 0.7228\n",
            "Epoch: 014, Loss: 0.7178\n",
            "Epoch: 015, Loss: 0.7146\n",
            "Epoch: 016, Loss: 0.7123\n",
            "Epoch: 017, Loss: 0.7093\n",
            "Epoch: 018, Loss: 0.7077\n",
            "Epoch: 019, Loss: 0.7061\n",
            "Epoch: 020, Loss: 0.7044\n",
            "Epoch: 021, Loss: 0.7034\n",
            "Epoch: 022, Loss: 0.7023\n",
            "Epoch: 023, Loss: 0.7015\n",
            "Epoch: 024, Loss: 0.7005\n",
            "Epoch: 025, Loss: 0.7000\n",
            "Epoch: 026, Loss: 0.6995\n",
            "Epoch: 027, Loss: 0.6989\n",
            "Epoch: 028, Loss: 0.6987\n",
            "Epoch: 029, Loss: 0.6981\n",
            "Epoch: 030, Loss: 0.6979\n",
            "Epoch: 031, Loss: 0.6976\n",
            "Epoch: 032, Loss: 0.6973\n",
            "Epoch: 033, Loss: 0.6972\n",
            "Epoch: 034, Loss: 0.6969\n",
            "Epoch: 035, Loss: 0.6966\n",
            "Epoch: 036, Loss: 0.6965\n",
            "Epoch: 037, Loss: 0.6962\n",
            "Epoch: 038, Loss: 0.6961\n",
            "Epoch: 039, Loss: 0.6961\n",
            "Epoch: 040, Loss: 0.6959\n",
            "Epoch: 041, Loss: 0.6957\n",
            "Epoch: 042, Loss: 0.6956\n",
            "Epoch: 043, Loss: 0.6956\n",
            "Epoch: 044, Loss: 0.6955\n",
            "Epoch: 045, Loss: 0.6954\n",
            "Epoch: 046, Loss: 0.6952\n",
            "Epoch: 047, Loss: 0.6953\n",
            "Epoch: 048, Loss: 0.6951\n",
            "Epoch: 049, Loss: 0.6950\n",
            "Epoch: 050, Loss: 0.6949\n",
            "Epoch: 051, Loss: 0.6950\n",
            "Epoch: 052, Loss: 0.6949\n",
            "Epoch: 053, Loss: 0.6949\n",
            "Epoch: 054, Loss: 0.6949\n",
            "Epoch: 055, Loss: 0.6948\n",
            "Epoch: 056, Loss: 0.6947\n",
            "Epoch: 057, Loss: 0.6947\n",
            "Epoch: 058, Loss: 0.6947\n",
            "Epoch: 059, Loss: 0.6946\n",
            "Epoch: 060, Loss: 0.6946\n",
            "Epoch: 061, Loss: 0.6945\n",
            "Epoch: 062, Loss: 0.6946\n",
            "Epoch: 063, Loss: 0.6945\n",
            "Epoch: 064, Loss: 0.6945\n",
            "Epoch: 065, Loss: 0.6945\n",
            "Epoch: 066, Loss: 0.6944\n",
            "Epoch: 067, Loss: 0.6944\n",
            "Epoch: 068, Loss: 0.6945\n",
            "Epoch: 069, Loss: 0.6944\n",
            "Epoch: 070, Loss: 0.6944\n",
            "Epoch: 071, Loss: 0.6943\n",
            "Epoch: 072, Loss: 0.6944\n",
            "Epoch: 073, Loss: 0.6944\n",
            "Epoch: 074, Loss: 0.6943\n",
            "Epoch: 075, Loss: 0.6943\n",
            "Epoch: 076, Loss: 0.6943\n",
            "Epoch: 077, Loss: 0.6943\n",
            "Epoch: 078, Loss: 0.6943\n",
            "Epoch: 079, Loss: 0.6943\n",
            "Epoch: 080, Loss: 0.6942\n",
            "Epoch: 081, Loss: 0.6943\n",
            "Epoch: 082, Loss: 0.6943\n",
            "Epoch: 083, Loss: 0.6942\n",
            "Epoch: 084, Loss: 0.6942\n",
            "Epoch: 085, Loss: 0.6943\n",
            "Epoch: 086, Loss: 0.6943\n",
            "Epoch: 087, Loss: 0.6942\n",
            "Epoch: 088, Loss: 0.6942\n",
            "Epoch: 089, Loss: 0.6943\n",
            "Epoch: 090, Loss: 0.6942\n",
            "Epoch: 091, Loss: 0.6942\n",
            "Epoch: 092, Loss: 0.6942\n",
            "Epoch: 093, Loss: 0.6942\n",
            "Epoch: 094, Loss: 0.6941\n",
            "Epoch: 095, Loss: 0.6941\n",
            "Epoch: 096, Loss: 0.6942\n",
            "Epoch: 097, Loss: 0.6941\n",
            "Epoch: 098, Loss: 0.6942\n",
            "Epoch: 099, Loss: 0.6942\n",
            "Epoch: 100, Loss: 0.6941\n",
            "Epoch: 101, Loss: 0.6941\n",
            "Epoch: 102, Loss: 0.6942\n",
            "Epoch: 103, Loss: 0.6942\n",
            "Epoch: 104, Loss: 0.6942\n",
            "Epoch: 105, Loss: 0.6941\n",
            "Epoch: 106, Loss: 0.6942\n",
            "Epoch: 107, Loss: 0.6941\n",
            "Epoch: 108, Loss: 0.6941\n",
            "Epoch: 109, Loss: 0.6941\n",
            "Epoch: 110, Loss: 0.6941\n",
            "Epoch: 111, Loss: 0.6942\n",
            "Epoch: 112, Loss: 0.6941\n",
            "Epoch: 113, Loss: 0.6941\n",
            "Epoch: 114, Loss: 0.6941\n",
            "Epoch: 115, Loss: 0.6941\n",
            "Epoch: 116, Loss: 0.6941\n",
            "Epoch: 117, Loss: 0.6941\n",
            "Epoch: 118, Loss: 0.6941\n",
            "Epoch: 119, Loss: 0.6941\n",
            "Epoch: 120, Loss: 0.6941\n",
            "Epoch: 121, Loss: 0.6941\n",
            "Epoch: 122, Loss: 0.6941\n",
            "Epoch: 123, Loss: 0.6942\n",
            "Epoch: 124, Loss: 0.6941\n",
            "Epoch: 125, Loss: 0.6941\n",
            "Epoch: 126, Loss: 0.6941\n",
            "Epoch: 127, Loss: 0.6942\n",
            "Epoch: 128, Loss: 0.6941\n",
            "Epoch: 129, Loss: 0.6941\n",
            "Epoch: 130, Loss: 0.6940\n",
            "Epoch: 131, Loss: 0.6941\n",
            "Epoch: 132, Loss: 0.6941\n",
            "Epoch: 133, Loss: 0.6941\n",
            "Epoch: 134, Loss: 0.6940\n",
            "Epoch: 135, Loss: 0.6941\n",
            "Epoch: 136, Loss: 0.6941\n",
            "Epoch: 137, Loss: 0.6941\n",
            "Epoch: 138, Loss: 0.6941\n",
            "Epoch: 139, Loss: 0.6941\n",
            "Epoch: 140, Loss: 0.6940\n",
            "Epoch: 141, Loss: 0.6940\n",
            "Epoch: 142, Loss: 0.6941\n",
            "Epoch: 143, Loss: 0.6940\n",
            "Epoch: 144, Loss: 0.6941\n",
            "Epoch: 145, Loss: 0.6940\n",
            "Epoch: 146, Loss: 0.6940\n",
            "Epoch: 147, Loss: 0.6940\n",
            "Epoch: 148, Loss: 0.6941\n",
            "Epoch: 149, Loss: 0.6940\n",
            "Epoch: 150, Loss: 0.6941\n",
            "Epoch: 151, Loss: 0.6941\n",
            "Epoch: 152, Loss: 0.6941\n",
            "Epoch: 153, Loss: 0.6941\n",
            "Epoch: 154, Loss: 0.6941\n",
            "Epoch: 155, Loss: 0.6941\n",
            "Epoch: 156, Loss: 0.6941\n",
            "Epoch: 157, Loss: 0.6940\n",
            "Epoch: 158, Loss: 0.6941\n",
            "Epoch: 159, Loss: 0.6940\n",
            "Epoch: 160, Loss: 0.6940\n",
            "Epoch: 161, Loss: 0.6940\n",
            "Epoch: 162, Loss: 0.6940\n",
            "Epoch: 163, Loss: 0.6940\n",
            "Epoch: 164, Loss: 0.6941\n",
            "Epoch: 165, Loss: 0.6941\n",
            "Epoch: 166, Loss: 0.6941\n",
            "Epoch: 167, Loss: 0.6941\n",
            "Epoch: 168, Loss: 0.6940\n",
            "Epoch: 169, Loss: 0.6941\n",
            "Epoch: 170, Loss: 0.6940\n",
            "Epoch: 171, Loss: 0.6940\n",
            "Epoch: 172, Loss: 0.6941\n",
            "Epoch: 173, Loss: 0.6941\n",
            "Epoch: 174, Loss: 0.6940\n",
            "Epoch: 175, Loss: 0.6941\n",
            "Epoch: 176, Loss: 0.6940\n",
            "Epoch: 177, Loss: 0.6940\n",
            "Epoch: 178, Loss: 0.6940\n",
            "Epoch: 179, Loss: 0.6940\n",
            "Epoch: 180, Loss: 0.6941\n",
            "Epoch: 181, Loss: 0.6940\n",
            "Epoch: 182, Loss: 0.6940\n",
            "Epoch: 183, Loss: 0.6940\n",
            "Epoch: 184, Loss: 0.6940\n",
            "Epoch: 185, Loss: 0.6940\n",
            "Epoch: 186, Loss: 0.6940\n",
            "Epoch: 187, Loss: 0.6940\n",
            "Epoch: 188, Loss: 0.6940\n",
            "Epoch: 189, Loss: 0.6940\n",
            "Epoch: 190, Loss: 0.6940\n",
            "Epoch: 191, Loss: 0.6940\n",
            "Epoch: 192, Loss: 0.6940\n",
            "Epoch: 193, Loss: 0.6940\n",
            "Epoch: 194, Loss: 0.6940\n",
            "Epoch: 195, Loss: 0.6940\n",
            "Epoch: 196, Loss: 0.6940\n",
            "Epoch: 197, Loss: 0.6940\n",
            "Epoch: 198, Loss: 0.6940\n",
            "Epoch: 199, Loss: 0.6941\n"
          ]
        }
      ],
      "source": [
        "# Train loop\n",
        "epochs = list(range(1, 200))\n",
        "total_loss = []\n",
        "for epoch in epochs:\n",
        "  loss = train_GraphSage(model_SAGE_enrich,train_loader_enrich)\n",
        "  total_loss.append(float(loss))\n",
        "  print(f'Epoch: {epoch:03d}, Loss: {loss:.4f}')"
      ]
    },
    {
      "cell_type": "code",
      "execution_count": null,
      "id": "e201cec2-17cf-4a46-bba8-c520b06f89c2",
      "metadata": {
        "colab": {
          "base_uri": "https://localhost:8080/",
          "height": 449
        },
        "id": "e201cec2-17cf-4a46-bba8-c520b06f89c2",
        "outputId": "211151cb-4304-41e7-80d9-dd2eaab4b2d8"
      },
      "outputs": [
        {
          "output_type": "display_data",
          "data": {
            "text/plain": [
              "<Figure size 640x480 with 1 Axes>"
            ],
            "image/png": "[encoded data removed]"
          },
          "metadata": {}
        }
      ],
      "source": [
        "import matplotlib.pyplot as plt\n",
        "plt.plot(epochs, total_loss)\n",
        "plt.xlabel('Epochs')\n",
        "plt.ylabel('BCE Loss')\n",
        "plt.ylabel('Training Loss for GCN - LCC')\n",
        "plt.show()"
      ]
    },
    {
      "cell_type": "code",
      "execution_count": null,
      "id": "00ff197a-62dc-48a8-b03e-4803ba7da953",
      "metadata": {
        "id": "00ff197a-62dc-48a8-b03e-4803ba7da953"
      },
      "outputs": [],
      "source": [
        "micro_f1,macro_f1,macro_AUC_ROC,ap_score_1 = test(gat_model_enrich)\n",
        "print(\"micro_f1:\", micro_f1)\n",
        "print(\"macro_f1:\", macro_f1)\n",
        "print(\"macro_AUC_ROC:\", macro_AUC_ROC)\n",
        "print(\"ap_score:\", ap_score_1)"
      ]
    },
    {
      "cell_type": "code",
      "source": [
        "#test_GraphSage(model_SAGE_enrich,test_loader)"
      ],
      "metadata": {
        "colab": {
          "base_uri": "https://localhost:8080/"
        },
        "id": "uX60mXQKbWJJ",
        "outputId": "ca0a31c6-6713-498b-f3d2-46912f7297ce"
      },
      "id": "uX60mXQKbWJJ",
      "execution_count": null,
      "outputs": [
        {
          "output_type": "execute_result",
          "data": {
            "text/plain": [
              "(0.3840257648953301,\n",
              " 0.04301153799488881,\n",
              " 0.5280013940733972,\n",
              " 0.05675044744368845)"
            ]
          },
          "metadata": {},
          "execution_count": 92
        }
      ]
    },
    {
      "cell_type": "markdown",
      "source": [
        "Sample nodes with high homophily"
      ],
      "metadata": {
        "id": "tJGOIUCS6Z-k"
      },
      "id": "tJGOIUCS6Z-k"
    },
    {
      "cell_type": "code",
      "source": [
        "# import torch\n",
        "# from torch_geometric.loader import NeighborLoader\n",
        "# from torch_geometric.data import Data\n",
        "# from sklearn.metrics import jaccard_score\n",
        "# import random\n",
        "\n",
        "# class DegreeNeighborSampler:\n",
        "#   def __init__(self, data):\n",
        "#       self.data = data\n",
        "#       self.graph = G_Euka\n",
        "\n",
        "#   def sample(self, batch, sizes):\n",
        "#     size1, size2 = sizes  # 第一层和第二层邻居采样的节点数量\n",
        "\n",
        "#     sampled_nodes_mask = torch.zeros(self.data.num_nodes, dtype=torch.bool)\n",
        "\n",
        "#     for node in batch:\n",
        "#         node = node.item()\n",
        "#         homophily_node_dic = {}\n",
        "\n",
        "#         # 第一层邻居采样\n",
        "#         for neighbor in list(self.graph.neighbors(node)):\n",
        "#             homophily_node = jaccard_score(self.data.y[node].numpy(), self.data.y[neighbor].numpy())\n",
        "#             homophily_node_dic[neighbor] = homophily_node\n",
        "\n",
        "#         sorted_neighbors = sorted(homophily_node_dic, key=homophily_node_dic.get, reverse=True)\n",
        "#         first_layer_neighbors = sorted_neighbors[:size1]\n",
        "\n",
        "#         # 第二层邻居采样\n",
        "#         second_layer_neighbors = []\n",
        "#         for neighbor in first_layer_neighbors:\n",
        "#             second_neighbors = list(self.graph.neighbors(neighbor))\n",
        "#             random.shuffle(second_neighbors)\n",
        "#             second_layer_neighbors.extend(second_neighbors[:size2])\n",
        "\n",
        "#         # 设置节点掩码\n",
        "#         sampled_nodes_mask[node] = True\n",
        "#         for neighbor in first_layer_neighbors:\n",
        "#             sampled_nodes_mask[neighbor] = True\n",
        "#             for second_neighbor in list(self.graph.neighbors(neighbor))[:size2]:\n",
        "#                 sampled_nodes_mask[second_neighbor] = True\n",
        "\n",
        "#     return sampled_nodes_mask\n",
        "\n",
        "\n",
        "# class CustomNeighborLoader(NeighborLoader):\n",
        "#   def __init__(self, data, input_nodes, sampler, num_neighbors, batch_size, shuffle=True):\n",
        "#       self.data = data\n",
        "#       self.custom_sampler = sampler\n",
        "#       self.num_neighbors = num_neighbors\n",
        "#       super(CustomNeighborLoader, self).__init__(data, num_neighbors, input_nodes=input_nodes, batch_size=batch_size, shuffle=shuffle)\n",
        "\n",
        "#   def __iter__(self):\n",
        "#       for batch in super(CustomNeighborLoader, self).__iter__():\n",
        "#           sampled_nodes = self.custom_sampler.sample(batch.n_id, self.num_neighbors)\n",
        "#           yield sampled_nodes\n"
      ],
      "metadata": {
        "id": "6mEHiA-H6i5Y"
      },
      "id": "6mEHiA-H6i5Y",
      "execution_count": null,
      "outputs": []
    },
    {
      "cell_type": "markdown",
      "source": [],
      "metadata": {
        "id": "yjBfRTt8Gyur"
      },
      "id": "yjBfRTt8Gyur"
    },
    {
      "cell_type": "code",
      "source": [
        "# def train_GraphSage_improved(model, loader):\n",
        "#   model.train()\n",
        "#   total_loss = 0\n",
        "#   for data in loader:\n",
        "#     print(data[0].shape)\n",
        "#     print(data[1].shape)\n",
        "#     print(data[2].shape)\n",
        "#     optimizer.zero_grad()\n",
        "#     output = model(data[0], data[1])\n",
        "#     loss = criterion(output, data[2])  # Assuming classification task\n",
        "#     loss.backward()\n",
        "#     optimizer.step()\n",
        "#     total_loss += loss.item()\n",
        "#   return total_loss / len(loader)"
      ],
      "metadata": {
        "id": "JKVDjFu_6Ok6"
      },
      "id": "JKVDjFu_6Ok6",
      "execution_count": null,
      "outputs": []
    },
    {
      "cell_type": "code",
      "source": [
        "# # 创建 DegreeNeighborSampler 实例\n",
        "# sampler = DegreeNeighborSampler(Euka)\n",
        "\n",
        "# # 使用自定义 NeighborLoader\n",
        "# train_loader_Sage_improved = CustomNeighborLoader(Euka, input_nodes=train_mask,\n",
        "#                                    sampler=sampler, num_neighbors=[5, 3],\n",
        "#                                    batch_size=512, shuffle=True)\n",
        "# model_SAGE_normal.train()\n",
        "# total_loss = 0\n",
        "# for data in train_loader_Sage_improved:\n",
        "#   optimizer.zero_grad()\n",
        "#   output = model_SAGE_normal.forward(Euka.x, Euka.edge_index)\n",
        "#   loss = criterion(output[data], Euka.y[data])\n",
        "#   loss.backward()\n",
        "#   optimizer.step()\n",
        "#   total_loss += loss.item()\n"
      ],
      "metadata": {
        "id": "1yrRjg_GuzuB"
      },
      "id": "1yrRjg_GuzuB",
      "execution_count": null,
      "outputs": []
    },
    {
      "cell_type": "code",
      "source": [],
      "metadata": {
        "id": "OPMqS3C3JRQW"
      },
      "id": "OPMqS3C3JRQW",
      "execution_count": null,
      "outputs": []
    }
  ],
  "metadata": {
    "kernelspec": {
      "display_name": "Python 3 (ipykernel)",
      "language": "python",
      "name": "python3"
    },
    "language_info": {
      "codemirror_mode": {
        "name": "ipython",
        "version": 3
      },
      "file_extension": ".py",
      "mimetype": "text/x-python",
      "name": "python",
      "nbconvert_exporter": "python",
      "pygments_lexer": "ipython3",
      "version": "3.10.14"
    },
    "colab": {
      "provenance": []
    }
  },
  "nbformat": 4,
  "nbformat_minor": 5
}