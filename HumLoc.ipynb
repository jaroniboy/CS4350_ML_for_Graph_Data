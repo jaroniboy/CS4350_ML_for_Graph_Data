{
  "cells": [
    {
      "cell_type": "code",
      "source": [
        "!pip install torch_geometric"
      ],
      "metadata": {
        "colab": {
          "base_uri": "https://localhost:8080/"
        },
        "id": "s9qO_B3nGnQb",
        "outputId": "eba1eadb-0781-4f33-aea2-a61a3b08fc2b"
      },
      "id": "s9qO_B3nGnQb",
      "execution_count": null,
      "outputs": [
        {
          "output_type": "stream",
          "name": "stdout",
          "text": [
            "Collecting torch_geometric\n",
            "  Downloading torch_geometric-2.5.3-py3-none-any.whl (1.1 MB)\n",
            "\u001b[2K     \u001b[90m━━━━━━━━━━━━━━━━━━━━━━━━━━━━━━━━━━━━━━━━\u001b[0m \u001b[32m1.1/1.1 MB\u001b[0m \u001b[31m9.0 MB/s\u001b[0m eta \u001b[36m0:00:00\u001b[0m\n",
            "\u001b[?25hRequirement already satisfied: tqdm in /usr/local/lib/python3.10/dist-packages (from torch_geometric) (4.66.4)\n",
            "Requirement already satisfied: numpy in /usr/local/lib/python3.10/dist-packages (from torch_geometric) (1.25.2)\n",
            "Requirement already satisfied: scipy in /usr/local/lib/python3.10/dist-packages (from torch_geometric) (1.11.4)\n",
            "Requirement already satisfied: fsspec in /usr/local/lib/python3.10/dist-packages (from torch_geometric) (2023.6.0)\n",
            "Requirement already satisfied: jinja2 in /usr/local/lib/python3.10/dist-packages (from torch_geometric) (3.1.4)\n",
            "Requirement already satisfied: aiohttp in /usr/local/lib/python3.10/dist-packages (from torch_geometric) (3.9.5)\n",
            "Requirement already satisfied: requests in /usr/local/lib/python3.10/dist-packages (from torch_geometric) (2.31.0)\n",
            "Requirement already satisfied: pyparsing in /usr/local/lib/python3.10/dist-packages (from torch_geometric) (3.1.2)\n",
            "Requirement already satisfied: scikit-learn in /usr/local/lib/python3.10/dist-packages (from torch_geometric) (1.2.2)\n",
            "Requirement already satisfied: psutil>=5.8.0 in /usr/local/lib/python3.10/dist-packages (from torch_geometric) (5.9.5)\n",
            "Requirement already satisfied: aiosignal>=1.1.2 in /usr/local/lib/python3.10/dist-packages (from aiohttp->torch_geometric) (1.3.1)\n",
            "Requirement already satisfied: attrs>=17.3.0 in /usr/local/lib/python3.10/dist-packages (from aiohttp->torch_geometric) (23.2.0)\n",
            "Requirement already satisfied: frozenlist>=1.1.1 in /usr/local/lib/python3.10/dist-packages (from aiohttp->torch_geometric) (1.4.1)\n",
            "Requirement already satisfied: multidict<7.0,>=4.5 in /usr/local/lib/python3.10/dist-packages (from aiohttp->torch_geometric) (6.0.5)\n",
            "Requirement already satisfied: yarl<2.0,>=1.0 in /usr/local/lib/python3.10/dist-packages (from aiohttp->torch_geometric) (1.9.4)\n",
            "Requirement already satisfied: async-timeout<5.0,>=4.0 in /usr/local/lib/python3.10/dist-packages (from aiohttp->torch_geometric) (4.0.3)\n",
            "Requirement already satisfied: MarkupSafe>=2.0 in /usr/local/lib/python3.10/dist-packages (from jinja2->torch_geometric) (2.1.5)\n",
            "Requirement already satisfied: charset-normalizer<4,>=2 in /usr/local/lib/python3.10/dist-packages (from requests->torch_geometric) (3.3.2)\n",
            "Requirement already satisfied: idna<4,>=2.5 in /usr/local/lib/python3.10/dist-packages (from requests->torch_geometric) (3.7)\n",
            "Requirement already satisfied: urllib3<3,>=1.21.1 in /usr/local/lib/python3.10/dist-packages (from requests->torch_geometric) (2.0.7)\n",
            "Requirement already satisfied: certifi>=2017.4.17 in /usr/local/lib/python3.10/dist-packages (from requests->torch_geometric) (2024.6.2)\n",
            "Requirement already satisfied: joblib>=1.1.1 in /usr/local/lib/python3.10/dist-packages (from scikit-learn->torch_geometric) (1.4.2)\n",
            "Requirement already satisfied: threadpoolctl>=2.0.0 in /usr/local/lib/python3.10/dist-packages (from scikit-learn->torch_geometric) (3.5.0)\n",
            "Installing collected packages: torch_geometric\n",
            "Successfully installed torch_geometric-2.5.3\n"
          ]
        }
      ]
    },
    {
      "cell_type": "code",
      "source": [
        "import os\n",
        "import torch\n",
        "os.environ['TORCH'] = torch.__version__\n",
        "print(torch.__version__)\n",
        "\n",
        "!pip install pyg-lib -f https://data.pyg.org/whl/torch-${TORCH}.html\n",
        "!pip install git+https://github.com/pyg-team/pytorch_geometric.git\n",
        "\n",
        "!pip install torch-scatter -f https://pytorch-geometric.com/whl/torch-2.3.0+cu121.html\n",
        "!pip install torch-sparse -f https://pytorch-geometric.com/whl/torch-2.3.0+cu121.html"
      ],
      "metadata": {
        "colab": {
          "base_uri": "https://localhost:8080/"
        },
        "id": "SlKJa_yHDCVx",
        "outputId": "2b9cfa7f-05de-44fe-caf2-ad1bb31baf8f"
      },
      "id": "SlKJa_yHDCVx",
      "execution_count": null,
      "outputs": [
        {
          "output_type": "stream",
          "name": "stdout",
          "text": [
            "2.3.0+cu121\n",
            "Looking in links: https://data.pyg.org/whl/torch-2.3.0+cu121.html\n",
            "Collecting pyg-lib\n",
            "  Downloading https://data.pyg.org/whl/torch-2.3.0%2Bcu121/pyg_lib-0.4.0%2Bpt23cu121-cp310-cp310-linux_x86_64.whl (2.5 MB)\n",
            "\u001b[2K     \u001b[90m━━━━━━━━━━━━━━━━━━━━━━━━━━━━━━━━━━━━━━━━\u001b[0m \u001b[32m2.5/2.5 MB\u001b[0m \u001b[31m3.9 MB/s\u001b[0m eta \u001b[36m0:00:00\u001b[0m\n",
            "\u001b[?25hInstalling collected packages: pyg-lib\n",
            "Successfully installed pyg-lib-0.4.0+pt23cu121\n",
            "Collecting git+https://github.com/pyg-team/pytorch_geometric.git\n",
            "  Cloning https://github.com/pyg-team/pytorch_geometric.git to /tmp/pip-req-build-cxdmvrg7\n",
            "  Running command git clone --filter=blob:none --quiet https://github.com/pyg-team/pytorch_geometric.git /tmp/pip-req-build-cxdmvrg7\n",
            "  Resolved https://github.com/pyg-team/pytorch_geometric.git to commit 4e01b0bca72e97aca2ec0e1edf27ec768dc16d8a\n",
            "  Installing build dependencies ... \u001b[?25l\u001b[?25hdone\n",
            "  Getting requirements to build wheel ... \u001b[?25l\u001b[?25hdone\n",
            "  Preparing metadata (pyproject.toml) ... \u001b[?25l\u001b[?25hdone\n",
            "Requirement already satisfied: aiohttp in /usr/local/lib/python3.10/dist-packages (from torch-geometric==2.6.0) (3.9.5)\n",
            "Requirement already satisfied: fsspec in /usr/local/lib/python3.10/dist-packages (from torch-geometric==2.6.0) (2023.6.0)\n",
            "Requirement already satisfied: jinja2 in /usr/local/lib/python3.10/dist-packages (from torch-geometric==2.6.0) (3.1.4)\n",
            "Requirement already satisfied: numpy in /usr/local/lib/python3.10/dist-packages (from torch-geometric==2.6.0) (1.25.2)\n",
            "Requirement already satisfied: psutil>=5.8.0 in /usr/local/lib/python3.10/dist-packages (from torch-geometric==2.6.0) (5.9.5)\n",
            "Requirement already satisfied: pyparsing in /usr/local/lib/python3.10/dist-packages (from torch-geometric==2.6.0) (3.1.2)\n",
            "Requirement already satisfied: requests in /usr/local/lib/python3.10/dist-packages (from torch-geometric==2.6.0) (2.31.0)\n",
            "Requirement already satisfied: scikit-learn in /usr/local/lib/python3.10/dist-packages (from torch-geometric==2.6.0) (1.2.2)\n",
            "Requirement already satisfied: scipy in /usr/local/lib/python3.10/dist-packages (from torch-geometric==2.6.0) (1.11.4)\n",
            "Requirement already satisfied: tqdm in /usr/local/lib/python3.10/dist-packages (from torch-geometric==2.6.0) (4.66.4)\n",
            "Requirement already satisfied: aiosignal>=1.1.2 in /usr/local/lib/python3.10/dist-packages (from aiohttp->torch-geometric==2.6.0) (1.3.1)\n",
            "Requirement already satisfied: attrs>=17.3.0 in /usr/local/lib/python3.10/dist-packages (from aiohttp->torch-geometric==2.6.0) (23.2.0)\n",
            "Requirement already satisfied: frozenlist>=1.1.1 in /usr/local/lib/python3.10/dist-packages (from aiohttp->torch-geometric==2.6.0) (1.4.1)\n",
            "Requirement already satisfied: multidict<7.0,>=4.5 in /usr/local/lib/python3.10/dist-packages (from aiohttp->torch-geometric==2.6.0) (6.0.5)\n",
            "Requirement already satisfied: yarl<2.0,>=1.0 in /usr/local/lib/python3.10/dist-packages (from aiohttp->torch-geometric==2.6.0) (1.9.4)\n",
            "Requirement already satisfied: async-timeout<5.0,>=4.0 in /usr/local/lib/python3.10/dist-packages (from aiohttp->torch-geometric==2.6.0) (4.0.3)\n",
            "Requirement already satisfied: MarkupSafe>=2.0 in /usr/local/lib/python3.10/dist-packages (from jinja2->torch-geometric==2.6.0) (2.1.5)\n",
            "Requirement already satisfied: charset-normalizer<4,>=2 in /usr/local/lib/python3.10/dist-packages (from requests->torch-geometric==2.6.0) (3.3.2)\n",
            "Requirement already satisfied: idna<4,>=2.5 in /usr/local/lib/python3.10/dist-packages (from requests->torch-geometric==2.6.0) (3.7)\n",
            "Requirement already satisfied: urllib3<3,>=1.21.1 in /usr/local/lib/python3.10/dist-packages (from requests->torch-geometric==2.6.0) (2.0.7)\n",
            "Requirement already satisfied: certifi>=2017.4.17 in /usr/local/lib/python3.10/dist-packages (from requests->torch-geometric==2.6.0) (2024.6.2)\n",
            "Requirement already satisfied: joblib>=1.1.1 in /usr/local/lib/python3.10/dist-packages (from scikit-learn->torch-geometric==2.6.0) (1.4.2)\n",
            "Requirement already satisfied: threadpoolctl>=2.0.0 in /usr/local/lib/python3.10/dist-packages (from scikit-learn->torch-geometric==2.6.0) (3.5.0)\n",
            "Building wheels for collected packages: torch-geometric\n",
            "  Building wheel for torch-geometric (pyproject.toml) ... \u001b[?25l\u001b[?25hdone\n",
            "  Created wheel for torch-geometric: filename=torch_geometric-2.6.0-py3-none-any.whl size=1119024 sha256=c49069452606b33dbe1fbe9f738aa7c8cdcbcc7864d50458f600aa1a8e0b772e\n",
            "  Stored in directory: /tmp/pip-ephem-wheel-cache-mo28pl83/wheels/d3/78/eb/9e26525b948d19533f1688fb6c209cec8a0ba793d39b49ae8f\n",
            "Successfully built torch-geometric\n",
            "Installing collected packages: torch-geometric\n",
            "  Attempting uninstall: torch-geometric\n",
            "    Found existing installation: torch_geometric 2.5.3\n",
            "    Uninstalling torch_geometric-2.5.3:\n",
            "      Successfully uninstalled torch_geometric-2.5.3\n",
            "Successfully installed torch-geometric-2.6.0\n",
            "Looking in links: https://pytorch-geometric.com/whl/torch-2.3.0+cu121.html\n",
            "Collecting torch-scatter\n",
            "  Downloading https://data.pyg.org/whl/torch-2.3.0%2Bcu121/torch_scatter-2.1.2%2Bpt23cu121-cp310-cp310-linux_x86_64.whl (10.9 MB)\n",
            "\u001b[2K     \u001b[90m━━━━━━━━━━━━━━━━━━━━━━━━━━━━━━━━━━━━━━━━\u001b[0m \u001b[32m10.9/10.9 MB\u001b[0m \u001b[31m32.9 MB/s\u001b[0m eta \u001b[36m0:00:00\u001b[0m\n",
            "\u001b[?25hInstalling collected packages: torch-scatter\n",
            "Successfully installed torch-scatter-2.1.2+pt23cu121\n",
            "Looking in links: https://pytorch-geometric.com/whl/torch-2.3.0+cu121.html\n",
            "Collecting torch-sparse\n",
            "  Downloading https://data.pyg.org/whl/torch-2.3.0%2Bcu121/torch_sparse-0.6.18%2Bpt23cu121-cp310-cp310-linux_x86_64.whl (5.1 MB)\n",
            "\u001b[2K     \u001b[90m━━━━━━━━━━━━━━━━━━━━━━━━━━━━━━━━━━━━━━━━\u001b[0m \u001b[32m5.1/5.1 MB\u001b[0m \u001b[31m19.0 MB/s\u001b[0m eta \u001b[36m0:00:00\u001b[0m\n",
            "\u001b[?25hRequirement already satisfied: scipy in /usr/local/lib/python3.10/dist-packages (from torch-sparse) (1.11.4)\n",
            "Requirement already satisfied: numpy<1.28.0,>=1.21.6 in /usr/local/lib/python3.10/dist-packages (from scipy->torch-sparse) (1.25.2)\n",
            "Installing collected packages: torch-sparse\n",
            "Successfully installed torch-sparse-0.6.18+pt23cu121\n"
          ]
        }
      ]
    },
    {
      "cell_type": "code",
      "source": [
        "import numpy as np\n",
        "import os\n",
        "import scipy\n",
        "import scipy.io\n",
        "import os.path as osp\n",
        "from torch_geometric.data import Data\n",
        "import torch\n",
        "from gensim.models import Word2Vec, KeyedVectors\n",
        "import torch_geometric.transforms as T\n",
        "import torch.nn.functional as F\n",
        "from sklearn.metrics import jaccard_score\n",
        "import networkx as nx\n",
        "import torch.nn as nn"
      ],
      "metadata": {
        "id": "Lkgh59AdOUki"
      },
      "id": "Lkgh59AdOUki",
      "execution_count": null,
      "outputs": []
    },
    {
      "cell_type": "code",
      "source": [
        "# connected to google drive\n",
        "from google.colab import drive\n",
        "drive.mount('/content/drive')"
      ],
      "metadata": {
        "colab": {
          "base_uri": "https://localhost:8080/"
        },
        "id": "-aExqd31AaCK",
        "outputId": "ddaf5c11-90c7-4577-d7b5-1b04364b3b98"
      },
      "id": "-aExqd31AaCK",
      "execution_count": null,
      "outputs": [
        {
          "output_type": "stream",
          "name": "stdout",
          "text": [
            "Mounted at /content/drive\n"
          ]
        }
      ]
    },
    {
      "cell_type": "code",
      "execution_count": null,
      "id": "032957cd-d043-4e17-ba9d-1f6160a1fa57",
      "metadata": {
        "id": "032957cd-d043-4e17-ba9d-1f6160a1fa57"
      },
      "outputs": [],
      "source": [
        "def load_humloc(data_name=\"HumanGo\", path='/content/drive/My Drive/data'):\n",
        "  edge_list = torch.tensor(np.genfromtxt(os.path.join(path, data_name, \"edge_list.csv\"),\n",
        "                                          skip_header=1, dtype=np.dtype(float), delimiter=','))[:, :2].long()\n",
        "  edge_list_other_half = torch.hstack((edge_list[:, 1].reshape(-1, 1), edge_list[:, 0].reshape(-1, 1)))\n",
        "  edge_index = torch.transpose(edge_list, 0, 1)\n",
        "  edge_index_other_half = torch.transpose(edge_list_other_half, 0, 1)\n",
        "  edge_index = torch.hstack((edge_index, edge_index_other_half))\n",
        "\n",
        "  labels = np.genfromtxt(os.path.join(path, data_name, \"labels.csv\"),\n",
        "                          dtype=np.dtype(float), delimiter=',')\n",
        "  labels = torch.tensor(labels).float()\n",
        "\n",
        "  features = torch.tensor(np.genfromtxt(os.path.join(path, data_name, \"features.csv\"),\n",
        "                          dtype=np.dtype(float), delimiter=',')).float()\n",
        "\n",
        "  file_path = os.path.join(path, data_name, \"split.pt\")\n",
        "  masks = torch.load(file_path)\n",
        "  train_idx = masks[\"train_mask\"]\n",
        "  train_mask = torch.zeros(features.shape[0], dtype=torch.bool)\n",
        "  train_mask[train_idx] = True\n",
        "\n",
        "  val_idx = masks[\"val_mask\"]\n",
        "  val_mask = torch.zeros(features.shape[0], dtype=torch.bool)\n",
        "  val_mask[val_idx] = True\n",
        "\n",
        "  test_idx = masks[\"test_mask\"]\n",
        "  test_mask = torch.zeros(features.shape[0], dtype=torch.bool)\n",
        "  test_mask[test_idx] = True\n",
        "\n",
        "  G = Data(x=features,\n",
        "            edge_index=edge_index,\n",
        "            y=labels)\n",
        "  G.train_mask = train_mask\n",
        "  G.val_mask = val_mask\n",
        "  G.test_mask = test_mask\n",
        "  G.num_nodes = G.x.shape[0]\n",
        "  G.n_id = torch.arange(G.num_nodes)\n",
        "  return G"
      ]
    },
    {
      "cell_type": "code",
      "execution_count": null,
      "id": "cddaeabb-0fa0-49ed-b6fd-da199e21d0e9",
      "metadata": {
        "scrolled": true,
        "colab": {
          "base_uri": "https://localhost:8080/"
        },
        "id": "cddaeabb-0fa0-49ed-b6fd-da199e21d0e9",
        "outputId": "588c052b-aa8f-4418-a4c7-35a4e153956a"
      },
      "outputs": [
        {
          "output_type": "execute_result",
          "data": {
            "text/plain": [
              "Data(x=[3106, 32], edge_index=[2, 36992], y=[3106, 14], train_mask=[3106], val_mask=[3106], test_mask=[3106], num_nodes=3106, n_id=[3106])"
            ]
          },
          "metadata": {},
          "execution_count": 6
        }
      ],
      "source": [
        "HumLoc = load_humloc(data_name=\"HumanGo\", path='/content/drive/My Drive/data')\n",
        "HumLoc"
      ]
    },
    {
      "cell_type": "code",
      "execution_count": null,
      "id": "02cc0135-2eb2-478a-b2a4-316bf8dfff85",
      "metadata": {
        "colab": {
          "base_uri": "https://localhost:8080/"
        },
        "id": "02cc0135-2eb2-478a-b2a4-316bf8dfff85",
        "outputId": "2f6cd0ec-10b6-40e8-e55c-e03b5d6c7fd7"
      },
      "outputs": [
        {
          "output_type": "stream",
          "name": "stdout",
          "text": [
            "Number of nodes: 3106\n",
            "Number of edges: 16508\n"
          ]
        }
      ],
      "source": [
        "#reading EukaryoteGo\n",
        "edge_index = HumLoc.edge_index\n",
        "G_HumLoc = nx.Graph()\n",
        "nodes = list(range(HumLoc.num_nodes))\n",
        "G_HumLoc.add_nodes_from(nodes)\n",
        "edges = edge_index.t().tolist()  # 转置并转换为 Python 列表\n",
        "G_HumLoc.add_edges_from(edges)\n",
        "print(\"Number of nodes:\", G_HumLoc.number_of_nodes())\n",
        "print(\"Number of edges:\", G_HumLoc.number_of_edges())"
      ]
    },
    {
      "cell_type": "code",
      "source": [
        "# 2. 计算每个节点的度\n",
        "degrees = [G_HumLoc.degree(n) for n in G_HumLoc.nodes()]\n",
        "\n",
        "# 3. 统计每个度出现的频率\n",
        "degree_counts = {}\n",
        "for degree in degrees:\n",
        "    if degree in degree_counts:\n",
        "        degree_counts[degree] += 1\n",
        "    else:\n",
        "        degree_counts[degree] = 1\n",
        "\n",
        "# 4. 分离度和值\n",
        "degree_values = list(degree_counts.keys())\n",
        "counts = list(degree_counts.values())\n",
        "\n",
        "# 5. 绘制度分布图\n",
        "plt.figure(figsize=(10, 6))\n",
        "plt.bar(degree_values, counts, width=0.8, color='b')\n",
        "\n",
        "plt.title(\"Degree Distribution\")\n",
        "plt.xlabel(\"Degree\")\n",
        "plt.ylabel(\"Frequency\")\n",
        "plt.yscale('log')  # 如果需要，可以将y轴设为对数尺度\n",
        "\n",
        "plt.show()"
      ],
      "metadata": {
        "colab": {
          "base_uri": "https://localhost:8080/",
          "height": 564
        },
        "id": "PMLgn8-lTvBn",
        "outputId": "e2de7860-62e1-4ef9-f502-e6f86ab712e6"
      },
      "id": "PMLgn8-lTvBn",
      "execution_count": 62,
      "outputs": [
        {
          "output_type": "display_data",
          "data": {
            "text/plain": [
              "<Figure size 1000x600 with 1 Axes>"
            ],
            "image/png": "[encoded data removed]"
          },
          "metadata": {}
        }
      ]
    },
    {
      "cell_type": "code",
      "execution_count": null,
      "id": "98ed522c-b568-4abf-978e-d44d88963c37",
      "metadata": {
        "colab": {
          "base_uri": "https://localhost:8080/"
        },
        "id": "98ed522c-b568-4abf-978e-d44d88963c37",
        "outputId": "00ede8ea-1d38-4add-cfd0-c51cb36467f2"
      },
      "outputs": [
        {
          "output_type": "stream",
          "name": "stdout",
          "text": [
            "Number of nodes-lcc: 2552\n",
            "Number of edges-lcc: 16472\n",
            "Number of nodes-remaining: 554\n",
            "Number of edges-remaining: 36\n"
          ]
        }
      ],
      "source": [
        "#Spliting EukaryoteGo into largest connected component and remaining\n",
        "largest_cc = max(nx.connected_components(G_HumLoc), key=len)\n",
        "largest_subgraph = G_HumLoc.subgraph(largest_cc)\n",
        "# 打印节点和边的数量\n",
        "print(\"Number of nodes-lcc:\", largest_subgraph.number_of_nodes())\n",
        "print(\"Number of edges-lcc:\", largest_subgraph.number_of_edges())\n",
        "G_remaining = G_HumLoc.copy()\n",
        "# 移除 G1 中的所有节点\n",
        "G_remaining.remove_nodes_from(largest_subgraph.nodes)\n",
        "# 移除 G1 中的所有边\n",
        "G_remaining.remove_edges_from(largest_subgraph.edges)\n",
        "print(\"Number of nodes-remaining:\", G_remaining.number_of_nodes())\n",
        "print(\"Number of edges-remaining:\", G_remaining.number_of_edges())"
      ]
    },
    {
      "cell_type": "code",
      "execution_count": null,
      "id": "46c234f0-10c3-4e22-89b3-b98ff12a25b4",
      "metadata": {
        "id": "46c234f0-10c3-4e22-89b3-b98ff12a25b4"
      },
      "outputs": [],
      "source": [
        "# support = 0.0\n",
        "# label_classes = []\n",
        "# for edge in edges:\n",
        "#     support = support + jaccard_score(labels[edge[0]].numpy(),\n",
        "#                                       labels[edge[1]].numpy())\n",
        "#     edge_0_label = find_occurance_class(labels[edge[0]].numpy())\n",
        "#     edge_1_label = find_occurance_class(labels[edge[1]].numpy())\n",
        "\n",
        "# h = support / len(edges)\n",
        "# print(h)"
      ]
    },
    {
      "cell_type": "code",
      "execution_count": null,
      "id": "d4c77ba7-85f4-4a5e-9221-614c517bfc65",
      "metadata": {
        "colab": {
          "base_uri": "https://localhost:8080/"
        },
        "id": "d4c77ba7-85f4-4a5e-9221-614c517bfc65",
        "outputId": "4beea258-e950-403d-a32f-93276bca4e04"
      },
      "outputs": [
        {
          "output_type": "stream",
          "name": "stdout",
          "text": [
            "0.4161243322000958\n"
          ]
        }
      ],
      "source": [
        "#计算largest connected component中的label homophily\n",
        "labels = HumLoc.y\n",
        "support = 0.0\n",
        "label_classes_lcc = []\n",
        "for edge in list(largest_subgraph.edges):\n",
        "    support = support + jaccard_score(labels[edge[0]].numpy(),\n",
        "                                      labels[edge[1]].numpy())\n",
        "\n",
        "#不能从边上找出现过的label类，要从节点上找，因为很多节点是孤立的\n",
        "h = support / largest_subgraph.number_of_edges()\n",
        "print(h)"
      ]
    },
    {
      "cell_type": "code",
      "execution_count": null,
      "id": "dc01852b-f05c-4ee8-a481-9b180883cbbd",
      "metadata": {
        "colab": {
          "base_uri": "https://localhost:8080/"
        },
        "id": "dc01852b-f05c-4ee8-a481-9b180883cbbd",
        "outputId": "9550bba9-f845-4a50-9675-2de7d8b57e9d"
      },
      "outputs": [
        {
          "output_type": "stream",
          "name": "stdout",
          "text": [
            "0.875\n"
          ]
        }
      ],
      "source": [
        "#计算remaining graph中的label homophily\n",
        "support = 0.0\n",
        "for edge in list(G_remaining.edges):\n",
        "    support = support + jaccard_score(labels[edge[0]].numpy(),\n",
        "                                      labels[edge[1]].numpy())\n",
        "\n",
        "h = support / G_remaining.number_of_edges()\n",
        "print(h)\n",
        "\n",
        "#many self loops, 信息缺失"
      ]
    },
    {
      "cell_type": "code",
      "execution_count": null,
      "id": "d7a03c66-08a4-4ce3-bf81-71c29d18fdcc",
      "metadata": {
        "colab": {
          "base_uri": "https://localhost:8080/"
        },
        "id": "d7a03c66-08a4-4ce3-bf81-71c29d18fdcc",
        "outputId": "5b99a9b5-0582-425b-8e58-0f5a3d948868"
      },
      "outputs": [
        {
          "output_type": "stream",
          "name": "stdout",
          "text": [
            "聚类系数: 0.13209254810830082\n",
            "链接密度: 0.005060404119596593\n"
          ]
        }
      ],
      "source": [
        "# 计算聚类系数（clustering coefficient）\n",
        "clustering_coeff = nx.average_clustering(largest_subgraph)\n",
        "# 计算链接密度（link density）\n",
        "link_density = nx.density(largest_subgraph)\n",
        "print(f\"聚类系数: {clustering_coeff}\")\n",
        "print(f\"链接密度: {link_density}\")"
      ]
    },
    {
      "cell_type": "code",
      "execution_count": null,
      "id": "af082d3c-d363-4c8d-97ac-0958c697f15a",
      "metadata": {
        "colab": {
          "base_uri": "https://localhost:8080/"
        },
        "id": "af082d3c-d363-4c8d-97ac-0958c697f15a",
        "outputId": "ddae1165-77a0-4118-b973-373c997be029"
      },
      "outputs": [
        {
          "output_type": "stream",
          "name": "stdout",
          "text": [
            "聚类系数: 0.10853193263759937\n",
            "链接密度: 0.003423429588775763\n"
          ]
        }
      ],
      "source": [
        "clustering_coeff = nx.average_clustering(G_HumLoc)\n",
        "# 计算链接密度（link density）\n",
        "link_density = nx.density(G_HumLoc)\n",
        "print(f\"聚类系数: {clustering_coeff}\")\n",
        "print(f\"链接密度: {link_density}\")"
      ]
    },
    {
      "cell_type": "code",
      "execution_count": null,
      "id": "0ba419df-35a4-44f1-9b24-723e143f6062",
      "metadata": {
        "id": "0ba419df-35a4-44f1-9b24-723e143f6062"
      },
      "outputs": [],
      "source": [
        "def print_dataset_label_statistic(labels):\n",
        "    # 计算每行的非零元素个数\n",
        "    nonzero_counts = torch.count_nonzero(labels, dim=1)\n",
        "\n",
        "    # 转换为浮点数类型，以便进行平均值计算\n",
        "    nonzero_counts_float = nonzero_counts.float()\n",
        "\n",
        "    # 计算非零元素个数的最小值、平均值、中位数和最大值\n",
        "    min_count = torch.min(nonzero_counts).item()\n",
        "    mean_count = torch.mean(nonzero_counts_float).item()\n",
        "    median_count = torch.median(nonzero_counts.float()).item()\n",
        "    max_count = torch.max(nonzero_counts).item()\n",
        "\n",
        "    # 打印结果\n",
        "    print(\"每行非零元素个数的最小值:\", min_count)\n",
        "    print(\"每行非零元素个数的平均值:\", mean_count)\n",
        "    print(\"每行非零元素个数的中位数:\", median_count)\n",
        "    print(\"每行非零元素个数的最大值:\", max_count)"
      ]
    },
    {
      "cell_type": "code",
      "execution_count": null,
      "id": "7292aa94-4afe-4724-b0cd-c8d6dfdfd485",
      "metadata": {
        "colab": {
          "base_uri": "https://localhost:8080/"
        },
        "id": "7292aa94-4afe-4724-b0cd-c8d6dfdfd485",
        "outputId": "52dbcb35-7efc-45a7-e6e0-84c576423eef"
      },
      "outputs": [
        {
          "output_type": "stream",
          "name": "stdout",
          "text": [
            "每行非零元素个数的最小值: 1\n",
            "每行非零元素个数的平均值: 1.1939655542373657\n",
            "每行非零元素个数的中位数: 1.0\n",
            "每行非零元素个数的最大值: 4\n"
          ]
        }
      ],
      "source": [
        "# 最大连通量的label分布\n",
        "selected_labels_largest_cc = labels[torch.tensor(list(largest_cc))]\n",
        "print_dataset_label_statistic(selected_labels_largest_cc)"
      ]
    },
    {
      "cell_type": "code",
      "execution_count": null,
      "id": "551ec71d-13d8-48b4-9da0-659efee1edb8",
      "metadata": {
        "colab": {
          "base_uri": "https://localhost:8080/"
        },
        "id": "551ec71d-13d8-48b4-9da0-659efee1edb8",
        "outputId": "6bc78fb6-0f6d-4a95-a285-5a6dca8297ff"
      },
      "outputs": [
        {
          "output_type": "stream",
          "name": "stdout",
          "text": [
            "每行非零元素个数的最小值: 1\n",
            "每行非零元素个数的平均值: 1.1444042921066284\n",
            "每行非零元素个数的中位数: 1.0\n",
            "每行非零元素个数的最大值: 4\n"
          ]
        }
      ],
      "source": [
        "# 最大连通量的label分布\n",
        "selected_labels_remaining = labels[torch.tensor(list(G_remaining.nodes))]\n",
        "print_dataset_label_statistic(selected_labels_remaining)"
      ]
    },
    {
      "cell_type": "code",
      "execution_count": null,
      "id": "38eb98f1-2738-4f37-a780-e21df14469b3",
      "metadata": {
        "id": "38eb98f1-2738-4f37-a780-e21df14469b3"
      },
      "outputs": [],
      "source": [
        "def find_columns_with_ones(tensor):\n",
        "    num_rows, num_cols = tensor.shape\n",
        "    columns_with_ones = set()\n",
        "\n",
        "    for row_idx in range(num_rows):\n",
        "        row = tensor[row_idx]\n",
        "        indices = np.where(row == 1)[0]  # 找到每行中值为1的索引\n",
        "        columns_with_ones.update(indices)  # 将索引添加到集合中\n",
        "    return list(columns_with_ones)"
      ]
    },
    {
      "cell_type": "code",
      "execution_count": null,
      "id": "2f64c058-ed27-463d-8d4b-54873d6b8e4b",
      "metadata": {
        "colab": {
          "base_uri": "https://localhost:8080/"
        },
        "id": "2f64c058-ed27-463d-8d4b-54873d6b8e4b",
        "outputId": "eb462404-905f-4357-b73c-a79bb226d8f9"
      },
      "outputs": [
        {
          "output_type": "stream",
          "name": "stdout",
          "text": [
            "Columns with ones count-lcc:\n"
          ]
        },
        {
          "output_type": "execute_result",
          "data": {
            "text/plain": [
              "[0, 1, 2, 3, 4, 5, 6, 7, 8, 9, 10, 11, 12, 13]"
            ]
          },
          "metadata": {},
          "execution_count": 21
        }
      ],
      "source": [
        "columns_count_lcc = find_columns_with_ones(selected_labels_largest_cc)\n",
        "print(\"Columns with ones count-lcc:\")\n",
        "columns_count_lcc"
      ]
    },
    {
      "cell_type": "code",
      "execution_count": null,
      "id": "227640c6-aec8-4a87-901c-f60cf6463cf1",
      "metadata": {
        "colab": {
          "base_uri": "https://localhost:8080/"
        },
        "id": "227640c6-aec8-4a87-901c-f60cf6463cf1",
        "outputId": "2437b519-4547-4d69-f688-9fb95a33be6b"
      },
      "outputs": [
        {
          "output_type": "stream",
          "name": "stdout",
          "text": [
            "Columns with ones count-remaining:\n"
          ]
        },
        {
          "output_type": "execute_result",
          "data": {
            "text/plain": [
              "[0, 1, 2, 3, 4, 5, 6, 7, 8, 9, 10, 11, 12, 13]"
            ]
          },
          "metadata": {},
          "execution_count": 22
        }
      ],
      "source": [
        "columns_count_remaining = find_columns_with_ones(selected_labels_remaining)\n",
        "print(\"Columns with ones count-remaining:\")\n",
        "columns_count_remaining"
      ]
    },
    {
      "cell_type": "markdown",
      "id": "7063922b-801f-416e-948f-5547c40e13e6",
      "metadata": {
        "id": "7063922b-801f-416e-948f-5547c40e13e6"
      },
      "source": [
        "From this we infer that most of topology information and classes information has been covered by largest connected components"
      ]
    },
    {
      "cell_type": "markdown",
      "id": "77398c1f-2814-41b4-81bc-2996125f2e72",
      "metadata": {
        "id": "77398c1f-2814-41b4-81bc-2996125f2e72"
      },
      "source": [
        "Now we will use the topology information from largest connected component and some adding nodes from the remaining class (so the model can identify this kind of class)"
      ]
    },
    {
      "cell_type": "code",
      "execution_count": null,
      "id": "35979655-794f-47c3-8ae4-f90ce59807be",
      "metadata": {
        "colab": {
          "base_uri": "https://localhost:8080/"
        },
        "id": "35979655-794f-47c3-8ae4-f90ce59807be",
        "outputId": "ca90930c-c875-4c94-fee8-8196739d6701"
      },
      "outputs": [
        {
          "output_type": "execute_result",
          "data": {
            "text/plain": [
              "tensor([ True,  True,  True,  ..., False, False, False])"
            ]
          },
          "metadata": {},
          "execution_count": 24
        }
      ],
      "source": [
        "#only modifying training_mask, 对training_mask做进一步挑选，挑选出只在largest connected component 出现过的节点\n",
        "def update_train_mask(train_mask, node_list):\n",
        "    node_set = set(node_list)  # 将node_list转换为集合以便快速查找\n",
        "    updated_mask = train_mask.clone()  # 复制 train_mask，以免修改原始数据\n",
        "    for idx in range(train_mask.size(0)):\n",
        "        if updated_mask[idx] and idx not in node_set:\n",
        "            updated_mask[idx] = False\n",
        "    return updated_mask\n",
        "\n",
        "# 示例用法\n",
        "# 假设 Euka.train_mask 是一个 PyTorch 张量，largest_cc 是一个列表\n",
        "train_mask_lcc = update_train_mask(HumLoc.train_mask, list(largest_cc))\n",
        "train_mask_lcc"
      ]
    },
    {
      "cell_type": "code",
      "execution_count": null,
      "id": "0e23fbc6-b1ee-40f3-944c-e2a503fa47c1",
      "metadata": {
        "colab": {
          "base_uri": "https://localhost:8080/"
        },
        "id": "0e23fbc6-b1ee-40f3-944c-e2a503fa47c1",
        "outputId": "1eeb26e3-2cb9-4767-f3ae-691d73de8197"
      },
      "outputs": [
        {
          "output_type": "stream",
          "name": "stdout",
          "text": [
            "Number of True values: 1366\n",
            "Number of True values: 1675\n"
          ]
        }
      ],
      "source": [
        "train_mask = HumLoc.train_mask\n",
        "test_mask = HumLoc.test_mask\n",
        "def count_true_values(tensor):\n",
        "    return tensor.sum().item()\n",
        "true_count_lcc = count_true_values(train_mask_lcc)\n",
        "print(\"Number of True values:\", true_count_lcc)\n",
        "true_count_original = count_true_values(train_mask)\n",
        "print(\"Number of True values:\", true_count_original)\n",
        "#训练数据大幅度缩减"
      ]
    },
    {
      "cell_type": "code",
      "execution_count": null,
      "id": "46efd54b-afa6-455e-8110-15841283b8de",
      "metadata": {
        "colab": {
          "base_uri": "https://localhost:8080/"
        },
        "id": "46efd54b-afa6-455e-8110-15841283b8de",
        "outputId": "bedfb18d-8cd3-4dd8-9c9b-737eec969fb7"
      },
      "outputs": [
        {
          "output_type": "execute_result",
          "data": {
            "text/plain": [
              "Data(x=[3106, 32], edge_index=[2, 36992], y=[3106, 14], train_mask=[3106], val_mask=[3106], test_mask=[3106], num_nodes=3106, n_id=[3106])"
            ]
          },
          "metadata": {},
          "execution_count": 27
        }
      ],
      "source": [
        "HumLoc"
      ]
    },
    {
      "cell_type": "code",
      "execution_count": null,
      "id": "7723633c-1391-479e-949a-7c5bf12b95a8",
      "metadata": {
        "id": "7723633c-1391-479e-949a-7c5bf12b95a8"
      },
      "outputs": [],
      "source": [
        "import torch.nn as nn\n",
        "from torch_geometric.nn import GCNConv\n",
        "from torch_geometric.nn import GATConv\n",
        "from torch_geometric.nn import SAGEConv\n",
        "# for mini-batch training\n",
        "from torch_geometric.loader import NeighborLoader\n",
        "from torch_geometric.nn import Node2Vec\n",
        "# For GraphSage\n",
        "class GCN(torch.nn.Module):\n",
        "    def __init__(self, hidden_channels):\n",
        "        super(GCN, self).__init__()\n",
        "        torch.manual_seed(42)\n",
        "        self.conv1 = GCNConv(HumLoc.x.shape[1], hidden_channels)\n",
        "        self.conv2 = GCNConv(hidden_channels, HumLoc.y.shape[1])\n",
        "\n",
        "    def forward(self, data):\n",
        "        x, edge_index = data.x, data.edge_index\n",
        "        x = self.conv1(x, edge_index)\n",
        "        x = x.relu()\n",
        "        x = self.conv2(x, edge_index)\n",
        "        x = F.log_softmax(x, dim=1)\n",
        "        return x\n",
        "\n",
        "class GAT(nn.Module):\n",
        "    def __init__(self, hidden_channels, num_heads, dropout=0.5):\n",
        "        super(GAT, self).__init__()\n",
        "        self.conv1 = GATConv(HumLoc.x.shape[1], hidden_channels, heads=num_heads, dropout=dropout)\n",
        "        self.conv2 = GATConv(hidden_channels * num_heads, HumLoc.y.shape[1], heads=num_heads, concat=False, dropout=dropout)\n",
        "\n",
        "    def forward(self, data):\n",
        "        x, edge_index = data.x, data.edge_index\n",
        "        x = F.dropout(x, p=0.5, training=self.training)\n",
        "        x = F.elu(self.conv1(x, edge_index))\n",
        "        x = F.dropout(x, p=0.5, training=self.training)\n",
        "        x = self.conv2(x, edge_index)\n",
        "        return x\n",
        "\n",
        "class SAGE(torch.nn.Module):\n",
        "    def __init__(self, in_channels, hidden_channels, class_channels, num_layers=2):\n",
        "        super().__init__()\n",
        "        self.num_layers = num_layers\n",
        "        self.convs = torch.nn.ModuleList()\n",
        "        self.convs.append(SAGEConv(in_channels, hidden_channels))\n",
        "        self.convs.append(SAGEConv(hidden_channels, class_channels))\n",
        "\n",
        "    def forward(self, x, edge_index):\n",
        "        for i, conv in enumerate(self.convs):\n",
        "            x = conv(x, edge_index)\n",
        "            if i < len(self.convs) - 1:\n",
        "                x = x.relu_()\n",
        "                x = F.dropout(x, p=0.5, training=self.training)\n",
        "        return F.sigmoid(x)\n",
        "\n",
        "    @torch.no_grad()\n",
        "    def inference(self, x_all, subgraph_loader):\n",
        "        for i, conv in enumerate(self.convs):\n",
        "            xs = []\n",
        "            for batch in subgraph_loader:\n",
        "                x = x_all[batch.n_id.to(x_all.device)].to(device)\n",
        "                x = conv(x, batch.edge_index.to(device))\n",
        "                if i < len(self.convs) - 1:\n",
        "                    x = x.relu_()\n",
        "                xs.append(x[:batch.batch_size].cpu())\n",
        "            x_all = torch.cat(xs, dim=0)\n",
        "        return F.sigmoid(x_all)\n",
        "\n"
      ]
    },
    {
      "cell_type": "code",
      "execution_count": null,
      "id": "cbc843b0-c6bf-4f39-8820-c883e687e2a6",
      "metadata": {
        "id": "cbc843b0-c6bf-4f39-8820-c883e687e2a6"
      },
      "outputs": [],
      "source": [
        "# decide what kind of model you would like to use\n",
        "#GCN\n",
        "model_lcc = GCN(hidden_channels=32)\n",
        "#GAT\n",
        "hidden_channels = 32\n",
        "num_heads = 2\n",
        "gat_model_lcc = GAT(hidden_channels, num_heads)\n",
        "#Graph SAGE\n",
        "model_SAGE_lcc = SAGE(in_channels=HumLoc.x.shape[1],\n",
        "                 hidden_channels=32,\n",
        "                 class_channels=HumLoc.y.shape[1],\n",
        "                 )"
      ]
    },
    {
      "cell_type": "code",
      "execution_count": null,
      "id": "5330d95e-31b0-4dd1-9428-37247c98a076",
      "metadata": {
        "id": "5330d95e-31b0-4dd1-9428-37247c98a076"
      },
      "outputs": [],
      "source": [
        "optimizer = torch.optim.Adam(gat_model_lcc.parameters(), lr=0.001, weight_decay=5e-4)\n",
        "criterion = torch.nn.BCEWithLogitsLoss()"
      ]
    },
    {
      "cell_type": "code",
      "execution_count": null,
      "id": "da506aa2-0609-4c62-903c-d4e474200cb3",
      "metadata": {
        "id": "da506aa2-0609-4c62-903c-d4e474200cb3"
      },
      "outputs": [],
      "source": [
        "# Training function\n",
        "from metrics import f1_loss,_eval_rocauc,ap_score\n",
        "\n",
        "def train_lcc(model_lcc):\n",
        "    model_lcc.train()\n",
        "    optimizer.zero_grad()\n",
        "    out = model_lcc(HumLoc)\n",
        "    loss = criterion(out[train_mask_lcc], HumLoc.y[train_mask_lcc])\n",
        "    loss.backward()\n",
        "    optimizer.step()\n",
        "    return loss\n",
        "\n",
        "def train_lcc_enrich(model_lcc_enrich):\n",
        "    model_lcc_enrich.train()\n",
        "    optimizer.zero_grad()\n",
        "    out = model_lcc_enrich(HumLoc)\n",
        "    loss = criterion(out[train_mask_lcc_enriching], HumLoc.y[train_mask_lcc_enriching])\n",
        "    loss.backward()\n",
        "    optimizer.step()\n",
        "    return loss\n",
        "\n",
        "def train_normal(model_normal):\n",
        "    model_normal.train()\n",
        "    optimizer.zero_grad()\n",
        "    out = model_normal(HumLoc)\n",
        "    loss = criterion(out[train_mask], HumLoc.y[train_mask])\n",
        "    loss.backward()\n",
        "    optimizer.step()\n",
        "    return loss\n",
        "\n",
        "# Testing function\n",
        "def test(model):\n",
        "    model.eval()\n",
        "    out = model(HumLoc)\n",
        "    true_labels = HumLoc.y[test_mask]\n",
        "    micro_f1,macro_f1 = f1_loss(true_labels, out[test_mask])\n",
        "    macro_AUC_ROC = _eval_rocauc(true_labels, out[test_mask])\n",
        "    ap_score_1 = ap_score(true_labels, out[test_mask])\n",
        "    return micro_f1,macro_f1,macro_AUC_ROC,ap_score_1"
      ]
    },
    {
      "cell_type": "code",
      "execution_count": null,
      "id": "d671ded8-8fc2-4bf9-8e27-5638ca7373d6",
      "metadata": {
        "id": "d671ded8-8fc2-4bf9-8e27-5638ca7373d6"
      },
      "outputs": [],
      "source": [
        "def train_GraphSage(model, loader):\n",
        "  model.train()\n",
        "  total_loss = 0\n",
        "  for data in loader:\n",
        "    optimizer.zero_grad()\n",
        "    output = model(data.x, data.edge_index)\n",
        "    loss = criterion(output, data.y)  # Assuming classification task\n",
        "    loss.backward()\n",
        "    optimizer.step()\n",
        "    total_loss += loss.item()\n",
        "  return total_loss / len(loader)\n",
        "\n",
        "def test_GraphSage(model, loader):\n",
        "    model.eval()\n",
        "    all_preds = []\n",
        "    all_labels = []\n",
        "\n",
        "    with torch.no_grad():\n",
        "        for data in loader:\n",
        "            output = model(data.x, data.edge_index)\n",
        "            all_preds.append(output)\n",
        "            all_labels.append(data.y)\n",
        "\n",
        "    all_preds = torch.cat(all_preds, dim=0)\n",
        "    all_labels = torch.cat(all_labels, dim=0)\n",
        "\n",
        "    micro_f1, macro_f1 = f1_loss(all_labels, all_preds)\n",
        "    macro_AUC_ROC = _eval_rocauc(all_labels, all_preds)\n",
        "    ap_score_1 = ap_score(all_labels, all_preds)\n",
        "\n",
        "    return micro_f1, macro_f1, macro_AUC_ROC, ap_score_1\n",
        "\n"
      ]
    },
    {
      "cell_type": "code",
      "source": [
        "# import the libraries\n",
        "import torch\n",
        "import numpy as np\n",
        "import networkx as nx\n",
        "import matplotlib.pyplot as plt\n",
        "import matplotlib.image as mpimg\n",
        "\n",
        "\n",
        "import copy\n",
        "import os.path as osp\n",
        "import torch_sparse\n",
        "import torch\n",
        "from torch.nn import ModuleList\n",
        "import torch.nn.functional as F\n",
        "from torch_geometric.nn import APPNP\n",
        "from torch_geometric.nn import MessagePassing\n",
        "from torch_geometric.nn import GCNConv, SAGEConv, ClusterGCNConv\n",
        "\n",
        "from torch_geometric.explain import Explainer, GNNExplainer\n",
        "from torch_geometric.utils import k_hop_subgraph\n",
        "from torch_geometric.loader import ClusterData, ClusterLoader, NeighborLoader,NeighborSampler\n",
        "\n",
        "# import the functions\n",
        "from numpy import dot\n",
        "import torch.nn as nn\n",
        "from sklearn import metrics\n",
        "from numpy.linalg import norm\n",
        "import tqdm\n",
        "from sklearn.metrics import precision_recall_curve\n",
        "from sklearn.metrics import average_precision_score\n",
        "from sklearn.model_selection import train_test_split\n",
        "\n",
        "from torch_geometric.loader import NeighborLoader\n",
        "train_loader_lcc = NeighborLoader(HumLoc,input_nodes=train_mask_lcc,\n",
        "                              num_neighbors=[25, 10],\n",
        "                              shuffle=True, batch_size = 512)\n",
        "train_loader = NeighborLoader(HumLoc,input_nodes=train_mask,\n",
        "                              num_neighbors=[25, 10],\n",
        "                              shuffle=True, batch_size = 512)\n",
        "test_loader = NeighborLoader(\n",
        "    HumLoc,\n",
        "    num_neighbors=[25, 10],\n",
        "    batch_size=512,\n",
        "    input_nodes=HumLoc.test_mask\n",
        ")\n"
      ],
      "metadata": {
        "id": "-bJCUIZZQIvY"
      },
      "id": "-bJCUIZZQIvY",
      "execution_count": null,
      "outputs": []
    },
    {
      "cell_type": "code",
      "execution_count": null,
      "id": "f9ec6035-51a0-4f57-a3f0-9191675a71c6",
      "metadata": {
        "id": "f9ec6035-51a0-4f57-a3f0-9191675a71c6"
      },
      "outputs": [],
      "source": [
        "# # Train function for GraphSage\n",
        "# epochs = list(range(1, 200))\n",
        "# total_loss = []\n",
        "# for epoch in epochs:\n",
        "#   # decide on which loader to use\n",
        "#   loss = train_GraphSage(model_SAGE_lcc,train_loader)\n",
        "#   total_loss.append(float(loss))\n",
        "#   print(f'Epoch: {epoch:03d}, Loss: {loss:.4f}')\n",
        "\n"
      ]
    },
    {
      "cell_type": "code",
      "source": [
        "# import matplotlib.pyplot as plt\n",
        "# plt.plot(epochs, total_loss)\n",
        "# plt.xlabel('Epochs')\n",
        "# plt.ylabel('BCE Loss')\n",
        "# plt.ylabel('Training Loss for GCN - LCC')\n",
        "# plt.show()"
      ],
      "metadata": {
        "id": "dUn2ciyiVYlx"
      },
      "id": "dUn2ciyiVYlx",
      "execution_count": null,
      "outputs": []
    },
    {
      "cell_type": "code",
      "source": [
        "# micro_f1,macro_f1,macro_AUC_ROC,ap_score_1 = test_GraphSage(model_SAGE_lcc, test_loader)\n",
        "# print(\"micro_f1:\", micro_f1)\n",
        "# print(\"macro_f1:\", macro_f1)\n",
        "# print(\"macro_AUC_ROC:\", macro_AUC_ROC)\n",
        "# print(\"ap_score:\", ap_score_1)"
      ],
      "metadata": {
        "id": "OIgVU84dXhVV"
      },
      "id": "OIgVU84dXhVV",
      "execution_count": null,
      "outputs": []
    },
    {
      "cell_type": "code",
      "execution_count": null,
      "id": "c4216040-601b-4c9c-9aaa-1fcd436fe4e9",
      "metadata": {
        "id": "c4216040-601b-4c9c-9aaa-1fcd436fe4e9",
        "colab": {
          "base_uri": "https://localhost:8080/"
        },
        "outputId": "aede2411-3bca-4b1d-d031-4ac7b405cad0"
      },
      "outputs": [
        {
          "output_type": "stream",
          "name": "stdout",
          "text": [
            "Epoch: 001, Loss: 5.0134\n",
            "Epoch: 002, Loss: 4.3326\n",
            "Epoch: 003, Loss: 4.0033\n",
            "Epoch: 004, Loss: 3.7491\n",
            "Epoch: 005, Loss: 2.9077\n",
            "Epoch: 006, Loss: 3.9016\n",
            "Epoch: 007, Loss: 3.7099\n",
            "Epoch: 008, Loss: 3.3126\n",
            "Epoch: 009, Loss: 2.8791\n",
            "Epoch: 010, Loss: 3.1807\n",
            "Epoch: 011, Loss: 3.0127\n",
            "Epoch: 012, Loss: 2.9920\n",
            "Epoch: 013, Loss: 3.3458\n",
            "Epoch: 014, Loss: 2.6797\n",
            "Epoch: 015, Loss: 2.6365\n",
            "Epoch: 016, Loss: 2.6156\n",
            "Epoch: 017, Loss: 3.2072\n",
            "Epoch: 018, Loss: 1.5627\n",
            "Epoch: 019, Loss: 2.1427\n",
            "Epoch: 020, Loss: 1.7215\n",
            "Epoch: 021, Loss: 2.0003\n",
            "Epoch: 022, Loss: 1.8582\n",
            "Epoch: 023, Loss: 1.6457\n",
            "Epoch: 024, Loss: 1.5873\n",
            "Epoch: 025, Loss: 2.0643\n",
            "Epoch: 026, Loss: 1.5795\n",
            "Epoch: 027, Loss: 1.7596\n",
            "Epoch: 028, Loss: 1.4832\n",
            "Epoch: 029, Loss: 1.0969\n",
            "Epoch: 030, Loss: 1.5776\n",
            "Epoch: 031, Loss: 1.5482\n",
            "Epoch: 032, Loss: 1.2641\n",
            "Epoch: 033, Loss: 1.8887\n",
            "Epoch: 034, Loss: 1.2877\n",
            "Epoch: 035, Loss: 1.0202\n",
            "Epoch: 036, Loss: 1.1915\n",
            "Epoch: 037, Loss: 1.3943\n",
            "Epoch: 038, Loss: 1.0902\n",
            "Epoch: 039, Loss: 1.1801\n",
            "Epoch: 040, Loss: 0.9025\n",
            "Epoch: 041, Loss: 1.0964\n",
            "Epoch: 042, Loss: 1.2174\n",
            "Epoch: 043, Loss: 0.8410\n",
            "Epoch: 044, Loss: 0.9086\n",
            "Epoch: 045, Loss: 1.0313\n",
            "Epoch: 046, Loss: 1.0083\n",
            "Epoch: 047, Loss: 1.1909\n",
            "Epoch: 048, Loss: 0.7869\n",
            "Epoch: 049, Loss: 0.7428\n",
            "Epoch: 050, Loss: 0.8749\n",
            "Epoch: 051, Loss: 0.7619\n",
            "Epoch: 052, Loss: 0.8486\n",
            "Epoch: 053, Loss: 0.9156\n",
            "Epoch: 054, Loss: 0.8996\n",
            "Epoch: 055, Loss: 0.7872\n",
            "Epoch: 056, Loss: 0.7036\n",
            "Epoch: 057, Loss: 0.7851\n",
            "Epoch: 058, Loss: 0.8049\n",
            "Epoch: 059, Loss: 0.9069\n",
            "Epoch: 060, Loss: 0.7386\n",
            "Epoch: 061, Loss: 0.7472\n",
            "Epoch: 062, Loss: 0.6655\n",
            "Epoch: 063, Loss: 0.7860\n",
            "Epoch: 064, Loss: 0.6816\n",
            "Epoch: 065, Loss: 0.6536\n",
            "Epoch: 066, Loss: 0.7407\n",
            "Epoch: 067, Loss: 0.7149\n",
            "Epoch: 068, Loss: 0.6943\n",
            "Epoch: 069, Loss: 0.6547\n",
            "Epoch: 070, Loss: 0.6686\n",
            "Epoch: 071, Loss: 0.7008\n",
            "Epoch: 072, Loss: 0.6293\n",
            "Epoch: 073, Loss: 0.6850\n",
            "Epoch: 074, Loss: 0.6514\n",
            "Epoch: 075, Loss: 0.7807\n",
            "Epoch: 076, Loss: 0.6242\n",
            "Epoch: 077, Loss: 0.6092\n",
            "Epoch: 078, Loss: 0.6310\n",
            "Epoch: 079, Loss: 0.6105\n",
            "Epoch: 080, Loss: 0.6074\n",
            "Epoch: 081, Loss: 0.5962\n",
            "Epoch: 082, Loss: 0.5885\n",
            "Epoch: 083, Loss: 0.6092\n",
            "Epoch: 084, Loss: 0.6078\n",
            "Epoch: 085, Loss: 0.6049\n",
            "Epoch: 086, Loss: 0.5791\n",
            "Epoch: 087, Loss: 0.5885\n",
            "Epoch: 088, Loss: 0.6258\n",
            "Epoch: 089, Loss: 0.5698\n",
            "Epoch: 090, Loss: 0.5754\n",
            "Epoch: 091, Loss: 0.5711\n",
            "Epoch: 092, Loss: 0.5601\n",
            "Epoch: 093, Loss: 0.5617\n",
            "Epoch: 094, Loss: 0.6022\n",
            "Epoch: 095, Loss: 0.5345\n",
            "Epoch: 096, Loss: 0.6187\n",
            "Epoch: 097, Loss: 0.5424\n",
            "Epoch: 098, Loss: 0.5572\n",
            "Epoch: 099, Loss: 0.5537\n",
            "Epoch: 100, Loss: 0.5156\n",
            "Epoch: 101, Loss: 0.5605\n",
            "Epoch: 102, Loss: 0.5249\n",
            "Epoch: 103, Loss: 0.5640\n",
            "Epoch: 104, Loss: 0.5597\n",
            "Epoch: 105, Loss: 0.5896\n",
            "Epoch: 106, Loss: 0.5232\n",
            "Epoch: 107, Loss: 0.5263\n",
            "Epoch: 108, Loss: 0.5261\n",
            "Epoch: 109, Loss: 0.5136\n",
            "Epoch: 110, Loss: 0.4966\n",
            "Epoch: 111, Loss: 0.5133\n",
            "Epoch: 112, Loss: 0.5072\n",
            "Epoch: 113, Loss: 0.5020\n",
            "Epoch: 114, Loss: 0.5485\n",
            "Epoch: 115, Loss: 0.5246\n",
            "Epoch: 116, Loss: 0.5119\n",
            "Epoch: 117, Loss: 0.4857\n",
            "Epoch: 118, Loss: 0.5139\n",
            "Epoch: 119, Loss: 0.4877\n",
            "Epoch: 120, Loss: 0.5153\n",
            "Epoch: 121, Loss: 0.5039\n",
            "Epoch: 122, Loss: 0.5101\n",
            "Epoch: 123, Loss: 0.5150\n",
            "Epoch: 124, Loss: 0.4599\n",
            "Epoch: 125, Loss: 0.4646\n",
            "Epoch: 126, Loss: 0.4876\n",
            "Epoch: 127, Loss: 0.4808\n",
            "Epoch: 128, Loss: 0.4568\n",
            "Epoch: 129, Loss: 0.4969\n",
            "Epoch: 130, Loss: 0.4631\n",
            "Epoch: 131, Loss: 0.4961\n",
            "Epoch: 132, Loss: 0.4631\n",
            "Epoch: 133, Loss: 0.4801\n",
            "Epoch: 134, Loss: 0.4629\n",
            "Epoch: 135, Loss: 0.4699\n",
            "Epoch: 136, Loss: 0.4586\n",
            "Epoch: 137, Loss: 0.4753\n",
            "Epoch: 138, Loss: 0.5432\n",
            "Epoch: 139, Loss: 0.4422\n",
            "Epoch: 140, Loss: 0.4367\n",
            "Epoch: 141, Loss: 0.4932\n",
            "Epoch: 142, Loss: 0.4477\n",
            "Epoch: 143, Loss: 0.4450\n",
            "Epoch: 144, Loss: 0.4517\n",
            "Epoch: 145, Loss: 0.4777\n",
            "Epoch: 146, Loss: 0.4358\n",
            "Epoch: 147, Loss: 0.4405\n",
            "Epoch: 148, Loss: 0.4329\n",
            "Epoch: 149, Loss: 0.4195\n",
            "Epoch: 150, Loss: 0.4310\n",
            "Epoch: 151, Loss: 0.4429\n",
            "Epoch: 152, Loss: 0.4356\n",
            "Epoch: 153, Loss: 0.4612\n",
            "Epoch: 154, Loss: 0.4195\n",
            "Epoch: 155, Loss: 0.4045\n",
            "Epoch: 156, Loss: 0.4350\n",
            "Epoch: 157, Loss: 0.4160\n",
            "Epoch: 158, Loss: 0.4309\n",
            "Epoch: 159, Loss: 0.4097\n",
            "Epoch: 160, Loss: 0.4185\n",
            "Epoch: 161, Loss: 0.4143\n",
            "Epoch: 162, Loss: 0.4038\n",
            "Epoch: 163, Loss: 0.4072\n",
            "Epoch: 164, Loss: 0.3910\n",
            "Epoch: 165, Loss: 0.3939\n",
            "Epoch: 166, Loss: 0.4078\n",
            "Epoch: 167, Loss: 0.3923\n",
            "Epoch: 168, Loss: 0.3865\n",
            "Epoch: 169, Loss: 0.3919\n",
            "Epoch: 170, Loss: 0.3996\n",
            "Epoch: 171, Loss: 0.4027\n",
            "Epoch: 172, Loss: 0.4047\n",
            "Epoch: 173, Loss: 0.4022\n",
            "Epoch: 174, Loss: 0.3895\n",
            "Epoch: 175, Loss: 0.4129\n",
            "Epoch: 176, Loss: 0.3722\n",
            "Epoch: 177, Loss: 0.3990\n",
            "Epoch: 178, Loss: 0.3814\n",
            "Epoch: 179, Loss: 0.3896\n",
            "Epoch: 180, Loss: 0.3906\n",
            "Epoch: 181, Loss: 0.3910\n",
            "Epoch: 182, Loss: 0.3802\n",
            "Epoch: 183, Loss: 0.3866\n",
            "Epoch: 184, Loss: 0.3765\n",
            "Epoch: 185, Loss: 0.3844\n",
            "Epoch: 186, Loss: 0.4237\n",
            "Epoch: 187, Loss: 0.4012\n",
            "Epoch: 188, Loss: 0.3771\n",
            "Epoch: 189, Loss: 0.3671\n",
            "Epoch: 190, Loss: 0.3831\n",
            "Epoch: 191, Loss: 0.3800\n",
            "Epoch: 192, Loss: 0.4213\n",
            "Epoch: 193, Loss: 0.3760\n",
            "Epoch: 194, Loss: 0.3714\n",
            "Epoch: 195, Loss: 0.3673\n",
            "Epoch: 196, Loss: 0.4059\n",
            "Epoch: 197, Loss: 0.4480\n",
            "Epoch: 198, Loss: 0.3746\n",
            "Epoch: 199, Loss: 0.3624\n"
          ]
        }
      ],
      "source": [
        "# Train loop\n",
        "epochs = list(range(1, 200))\n",
        "total_loss = []\n",
        "for epoch in epochs:\n",
        "  loss = train_lcc(gat_model_lcc)\n",
        "  total_loss.append(float(loss))\n",
        "  print(f'Epoch: {epoch:03d}, Loss: {loss:.4f}')"
      ]
    },
    {
      "cell_type": "code",
      "execution_count": null,
      "id": "81fce3be-7342-4b9d-aa3b-9d3bc31c06fe",
      "metadata": {
        "id": "81fce3be-7342-4b9d-aa3b-9d3bc31c06fe",
        "colab": {
          "base_uri": "https://localhost:8080/",
          "height": 449
        },
        "outputId": "bac3a65e-ed2b-463f-c509-2c45947258d9"
      },
      "outputs": [
        {
          "output_type": "display_data",
          "data": {
            "text/plain": [
              "<Figure size 640x480 with 1 Axes>"
            ],
            "image/png": "[encoded data removed]"
          },
          "metadata": {}
        }
      ],
      "source": [
        "import matplotlib.pyplot as plt\n",
        "plt.plot(epochs, total_loss)\n",
        "plt.xlabel('Epochs')\n",
        "plt.ylabel('BCE Loss')\n",
        "plt.ylabel('Training Loss for GCN - LCC')\n",
        "plt.show()"
      ]
    },
    {
      "cell_type": "code",
      "execution_count": null,
      "id": "69dd9205-8152-47aa-ad6c-3472dd702e3a",
      "metadata": {
        "id": "69dd9205-8152-47aa-ad6c-3472dd702e3a",
        "colab": {
          "base_uri": "https://localhost:8080/"
        },
        "outputId": "d8347338-1a4e-483f-af2e-a5028962a089"
      },
      "outputs": [
        {
          "output_type": "stream",
          "name": "stdout",
          "text": [
            "micro_f1: 0.32627986348122867\n",
            "macro_f1: 0.08162655814171263\n",
            "macro_AUC_ROC: 0.5006947857135537\n",
            "ap_score: 0.09588107258423684\n"
          ]
        }
      ],
      "source": [
        "micro_f1,macro_f1,macro_AUC_ROC,ap_score_1 = test(gat_model_lcc)\n",
        "print(\"micro_f1:\", micro_f1)\n",
        "print(\"macro_f1:\", macro_f1)\n",
        "print(\"macro_AUC_ROC:\", macro_AUC_ROC)\n",
        "print(\"ap_score:\", ap_score_1)"
      ]
    },
    {
      "cell_type": "code",
      "execution_count": null,
      "id": "33211c9f-3f65-4996-9b78-a85fae5cf159",
      "metadata": {
        "id": "33211c9f-3f65-4996-9b78-a85fae5cf159"
      },
      "outputs": [],
      "source": [
        "model_normal = GCN(hidden_channels=32)\n",
        "gat_model_normal = GAT(hidden_channels, num_heads)"
      ]
    },
    {
      "cell_type": "code",
      "execution_count": null,
      "id": "f2e6924a-c7c9-4e5d-a701-2db3c86a8cd5",
      "metadata": {
        "id": "f2e6924a-c7c9-4e5d-a701-2db3c86a8cd5"
      },
      "outputs": [],
      "source": [
        "# decide which model to use\n",
        "optimizer = torch.optim.Adam(gat_model_normal.parameters(), lr=0.001, weight_decay=5e-4)\n",
        "criterion = torch.nn.BCEWithLogitsLoss()"
      ]
    },
    {
      "cell_type": "code",
      "execution_count": null,
      "id": "1ab57c23-4cc5-4da5-acf5-025bfbfbc4c2",
      "metadata": {
        "id": "1ab57c23-4cc5-4da5-acf5-025bfbfbc4c2",
        "colab": {
          "base_uri": "https://localhost:8080/"
        },
        "outputId": "fa9d5adf-3667-4400-bcd0-e5e3ad3af76b"
      },
      "outputs": [
        {
          "output_type": "stream",
          "name": "stdout",
          "text": [
            "Epoch: 001, Loss: 3.8486\n",
            "Epoch: 002, Loss: 4.0510\n",
            "Epoch: 003, Loss: 3.3676\n",
            "Epoch: 004, Loss: 3.4345\n",
            "Epoch: 005, Loss: 3.5500\n",
            "Epoch: 006, Loss: 3.0704\n",
            "Epoch: 007, Loss: 3.3979\n",
            "Epoch: 008, Loss: 2.9759\n",
            "Epoch: 009, Loss: 2.9273\n",
            "Epoch: 010, Loss: 2.6825\n",
            "Epoch: 011, Loss: 2.9229\n",
            "Epoch: 012, Loss: 2.3600\n",
            "Epoch: 013, Loss: 2.5877\n",
            "Epoch: 014, Loss: 2.9150\n",
            "Epoch: 015, Loss: 2.5201\n",
            "Epoch: 016, Loss: 2.5920\n",
            "Epoch: 017, Loss: 2.1676\n",
            "Epoch: 018, Loss: 1.8695\n",
            "Epoch: 019, Loss: 3.0423\n",
            "Epoch: 020, Loss: 2.1271\n",
            "Epoch: 021, Loss: 1.9107\n",
            "Epoch: 022, Loss: 1.7858\n",
            "Epoch: 023, Loss: 1.7432\n",
            "Epoch: 024, Loss: 1.5429\n",
            "Epoch: 025, Loss: 1.8126\n",
            "Epoch: 026, Loss: 1.6501\n",
            "Epoch: 027, Loss: 1.7424\n",
            "Epoch: 028, Loss: 1.5548\n",
            "Epoch: 029, Loss: 1.5041\n",
            "Epoch: 030, Loss: 1.8827\n",
            "Epoch: 031, Loss: 1.2633\n",
            "Epoch: 032, Loss: 1.3017\n",
            "Epoch: 033, Loss: 1.2035\n",
            "Epoch: 034, Loss: 1.2976\n",
            "Epoch: 035, Loss: 1.1627\n",
            "Epoch: 036, Loss: 1.0577\n",
            "Epoch: 037, Loss: 1.1338\n",
            "Epoch: 038, Loss: 1.1873\n",
            "Epoch: 039, Loss: 1.2438\n",
            "Epoch: 040, Loss: 1.1938\n",
            "Epoch: 041, Loss: 1.3322\n",
            "Epoch: 042, Loss: 1.1091\n",
            "Epoch: 043, Loss: 1.1038\n",
            "Epoch: 044, Loss: 1.0260\n",
            "Epoch: 045, Loss: 1.1991\n",
            "Epoch: 046, Loss: 1.0742\n",
            "Epoch: 047, Loss: 0.8905\n",
            "Epoch: 048, Loss: 0.9153\n",
            "Epoch: 049, Loss: 0.9955\n",
            "Epoch: 050, Loss: 1.0279\n",
            "Epoch: 051, Loss: 0.8903\n",
            "Epoch: 052, Loss: 0.8870\n",
            "Epoch: 053, Loss: 0.9222\n",
            "Epoch: 054, Loss: 1.0063\n",
            "Epoch: 055, Loss: 0.9215\n",
            "Epoch: 056, Loss: 0.8899\n",
            "Epoch: 057, Loss: 0.9299\n",
            "Epoch: 058, Loss: 0.8847\n",
            "Epoch: 059, Loss: 0.8537\n",
            "Epoch: 060, Loss: 0.8242\n",
            "Epoch: 061, Loss: 1.0256\n",
            "Epoch: 062, Loss: 0.8097\n",
            "Epoch: 063, Loss: 0.9641\n",
            "Epoch: 064, Loss: 0.8578\n",
            "Epoch: 065, Loss: 0.7861\n",
            "Epoch: 066, Loss: 0.8725\n",
            "Epoch: 067, Loss: 0.7789\n",
            "Epoch: 068, Loss: 0.8632\n",
            "Epoch: 069, Loss: 0.9232\n",
            "Epoch: 070, Loss: 0.7514\n",
            "Epoch: 071, Loss: 0.8237\n",
            "Epoch: 072, Loss: 0.7620\n",
            "Epoch: 073, Loss: 0.8062\n",
            "Epoch: 074, Loss: 0.7574\n",
            "Epoch: 075, Loss: 0.7239\n",
            "Epoch: 076, Loss: 0.7155\n",
            "Epoch: 077, Loss: 0.7074\n",
            "Epoch: 078, Loss: 0.7375\n",
            "Epoch: 079, Loss: 0.7491\n",
            "Epoch: 080, Loss: 0.7236\n",
            "Epoch: 081, Loss: 0.7289\n",
            "Epoch: 082, Loss: 0.7586\n",
            "Epoch: 083, Loss: 0.7298\n",
            "Epoch: 084, Loss: 0.7202\n",
            "Epoch: 085, Loss: 0.6828\n",
            "Epoch: 086, Loss: 0.6909\n",
            "Epoch: 087, Loss: 0.6843\n",
            "Epoch: 088, Loss: 0.7123\n",
            "Epoch: 089, Loss: 0.7268\n",
            "Epoch: 090, Loss: 0.7041\n",
            "Epoch: 091, Loss: 0.6787\n",
            "Epoch: 092, Loss: 0.6794\n",
            "Epoch: 093, Loss: 0.6952\n",
            "Epoch: 094, Loss: 0.6828\n",
            "Epoch: 095, Loss: 0.6671\n",
            "Epoch: 096, Loss: 0.6876\n",
            "Epoch: 097, Loss: 0.6379\n",
            "Epoch: 098, Loss: 0.7110\n",
            "Epoch: 099, Loss: 0.6362\n",
            "Epoch: 100, Loss: 0.6160\n",
            "Epoch: 101, Loss: 0.6338\n",
            "Epoch: 102, Loss: 0.6419\n",
            "Epoch: 103, Loss: 0.6531\n",
            "Epoch: 104, Loss: 0.6404\n",
            "Epoch: 105, Loss: 0.6025\n",
            "Epoch: 106, Loss: 0.5985\n",
            "Epoch: 107, Loss: 0.6296\n",
            "Epoch: 108, Loss: 0.6069\n",
            "Epoch: 109, Loss: 0.5998\n",
            "Epoch: 110, Loss: 0.6213\n",
            "Epoch: 111, Loss: 0.5875\n",
            "Epoch: 112, Loss: 0.6289\n",
            "Epoch: 113, Loss: 0.5981\n",
            "Epoch: 114, Loss: 0.5860\n",
            "Epoch: 115, Loss: 0.6707\n",
            "Epoch: 116, Loss: 0.6497\n",
            "Epoch: 117, Loss: 0.6194\n",
            "Epoch: 118, Loss: 0.6540\n",
            "Epoch: 119, Loss: 0.6515\n",
            "Epoch: 120, Loss: 0.5814\n",
            "Epoch: 121, Loss: 0.5798\n",
            "Epoch: 122, Loss: 0.6016\n",
            "Epoch: 123, Loss: 0.5684\n",
            "Epoch: 124, Loss: 0.5697\n",
            "Epoch: 125, Loss: 0.5644\n",
            "Epoch: 126, Loss: 0.5502\n",
            "Epoch: 127, Loss: 0.5662\n",
            "Epoch: 128, Loss: 0.5829\n",
            "Epoch: 129, Loss: 0.5647\n",
            "Epoch: 130, Loss: 0.5619\n",
            "Epoch: 131, Loss: 0.5607\n",
            "Epoch: 132, Loss: 0.5617\n",
            "Epoch: 133, Loss: 0.6131\n",
            "Epoch: 134, Loss: 0.5449\n",
            "Epoch: 135, Loss: 0.5389\n",
            "Epoch: 136, Loss: 0.5692\n",
            "Epoch: 137, Loss: 0.5445\n",
            "Epoch: 138, Loss: 0.5333\n",
            "Epoch: 139, Loss: 0.5358\n",
            "Epoch: 140, Loss: 0.5400\n",
            "Epoch: 141, Loss: 0.5225\n",
            "Epoch: 142, Loss: 0.5211\n",
            "Epoch: 143, Loss: 0.5040\n",
            "Epoch: 144, Loss: 0.5472\n",
            "Epoch: 145, Loss: 0.5100\n",
            "Epoch: 146, Loss: 0.5145\n",
            "Epoch: 147, Loss: 0.5317\n",
            "Epoch: 148, Loss: 0.5431\n",
            "Epoch: 149, Loss: 0.5914\n",
            "Epoch: 150, Loss: 0.5325\n",
            "Epoch: 151, Loss: 0.5396\n",
            "Epoch: 152, Loss: 0.5009\n",
            "Epoch: 153, Loss: 0.5062\n",
            "Epoch: 154, Loss: 0.5050\n",
            "Epoch: 155, Loss: 0.5449\n",
            "Epoch: 156, Loss: 0.5256\n",
            "Epoch: 157, Loss: 0.5113\n",
            "Epoch: 158, Loss: 0.4940\n",
            "Epoch: 159, Loss: 0.5077\n",
            "Epoch: 160, Loss: 0.4968\n",
            "Epoch: 161, Loss: 0.5278\n",
            "Epoch: 162, Loss: 0.4907\n",
            "Epoch: 163, Loss: 0.5038\n",
            "Epoch: 164, Loss: 0.4882\n",
            "Epoch: 165, Loss: 0.4906\n",
            "Epoch: 166, Loss: 0.4854\n",
            "Epoch: 167, Loss: 0.4756\n",
            "Epoch: 168, Loss: 0.4877\n",
            "Epoch: 169, Loss: 0.4830\n",
            "Epoch: 170, Loss: 0.4714\n",
            "Epoch: 171, Loss: 0.4837\n",
            "Epoch: 172, Loss: 0.5010\n",
            "Epoch: 173, Loss: 0.4480\n",
            "Epoch: 174, Loss: 0.4933\n",
            "Epoch: 175, Loss: 0.4800\n",
            "Epoch: 176, Loss: 0.4693\n",
            "Epoch: 177, Loss: 0.4708\n",
            "Epoch: 178, Loss: 0.4649\n",
            "Epoch: 179, Loss: 0.4646\n",
            "Epoch: 180, Loss: 0.4539\n",
            "Epoch: 181, Loss: 0.4667\n",
            "Epoch: 182, Loss: 0.4605\n",
            "Epoch: 183, Loss: 0.4534\n",
            "Epoch: 184, Loss: 0.4774\n",
            "Epoch: 185, Loss: 0.4791\n",
            "Epoch: 186, Loss: 0.4612\n",
            "Epoch: 187, Loss: 0.4513\n",
            "Epoch: 188, Loss: 0.4300\n",
            "Epoch: 189, Loss: 0.4705\n",
            "Epoch: 190, Loss: 0.4721\n",
            "Epoch: 191, Loss: 0.4557\n",
            "Epoch: 192, Loss: 0.4557\n",
            "Epoch: 193, Loss: 0.4677\n",
            "Epoch: 194, Loss: 0.4466\n",
            "Epoch: 195, Loss: 0.4299\n",
            "Epoch: 196, Loss: 0.4500\n",
            "Epoch: 197, Loss: 0.4522\n",
            "Epoch: 198, Loss: 0.4752\n",
            "Epoch: 199, Loss: 0.4717\n"
          ]
        }
      ],
      "source": [
        "# Train loop\n",
        "epochs = list(range(1, 200))\n",
        "total_loss = []\n",
        "for epoch in epochs:\n",
        "  loss = train_normal(gat_model_normal)\n",
        "  total_loss.append(float(loss))\n",
        "  print(f'Epoch: {epoch:03d}, Loss: {loss:.4f}')"
      ]
    },
    {
      "cell_type": "code",
      "execution_count": null,
      "id": "08fe0055-77cd-41cc-adb8-5551e2b90d14",
      "metadata": {
        "id": "08fe0055-77cd-41cc-adb8-5551e2b90d14",
        "colab": {
          "base_uri": "https://localhost:8080/",
          "height": 449
        },
        "outputId": "fdea839b-35b1-48ca-f1f3-f4fb280ccdfb"
      },
      "outputs": [
        {
          "output_type": "display_data",
          "data": {
            "text/plain": [
              "<Figure size 640x480 with 1 Axes>"
            ],
            "image/png": "[encoded data removed]"
          },
          "metadata": {}
        }
      ],
      "source": [
        "import matplotlib.pyplot as plt\n",
        "plt.plot(epochs, total_loss)\n",
        "plt.xlabel('Epochs')\n",
        "plt.ylabel('BCE Loss')\n",
        "plt.ylabel('Training Loss for GCN - LCC')\n",
        "plt.show()"
      ]
    },
    {
      "cell_type": "code",
      "execution_count": null,
      "id": "53db1602-7b98-4a54-b27f-800d40a51d5e",
      "metadata": {
        "id": "53db1602-7b98-4a54-b27f-800d40a51d5e",
        "colab": {
          "base_uri": "https://localhost:8080/"
        },
        "outputId": "00ddf739-46bd-44af-9d33-c63a6a830493"
      },
      "outputs": [
        {
          "output_type": "stream",
          "name": "stdout",
          "text": [
            "micro_f1: 0.3508532423208191\n",
            "macro_f1: 0.09420913257949878\n",
            "macro_AUC_ROC: 0.4970697551350928\n",
            "ap_score: 0.09642369281560982\n"
          ]
        }
      ],
      "source": [
        "micro_f1,macro_f1,macro_AUC_ROC,ap_score_1 = test(gat_model_normal)\n",
        "print(\"micro_f1:\", micro_f1)\n",
        "print(\"macro_f1:\", macro_f1)\n",
        "print(\"macro_AUC_ROC:\", macro_AUC_ROC)\n",
        "print(\"ap_score:\", ap_score_1)"
      ]
    },
    {
      "cell_type": "code",
      "execution_count": null,
      "id": "8d1fa349-fee4-45be-af9b-8132a9f3b2f6",
      "metadata": {
        "colab": {
          "base_uri": "https://localhost:8080/"
        },
        "id": "8d1fa349-fee4-45be-af9b-8132a9f3b2f6",
        "outputId": "bdba915c-2455-48a9-c10b-e5c3e01707c8"
      },
      "outputs": [
        {
          "output_type": "stream",
          "name": "stdout",
          "text": [
            "[]\n"
          ]
        }
      ],
      "source": [
        "def list_difference(list1, list2):\n",
        "    # 将列表转换为集合，方便计算差异\n",
        "    set1 = set(list1)\n",
        "    set2 = set(list2)\n",
        "    # 计算两个集合的对称差\n",
        "    difference = set1.symmetric_difference(set2)\n",
        "    # 将结果转换为列表并返回\n",
        "    return list(difference)\n",
        "\n",
        "missing_label_index = list_difference(columns_count_lcc, list(range(HumLoc.y.shape[1])))\n",
        "print(missing_label_index)"
      ]
    }
  ],
  "metadata": {
    "kernelspec": {
      "display_name": "Python 3 (ipykernel)",
      "language": "python",
      "name": "python3"
    },
    "language_info": {
      "codemirror_mode": {
        "name": "ipython",
        "version": 3
      },
      "file_extension": ".py",
      "mimetype": "text/x-python",
      "name": "python",
      "nbconvert_exporter": "python",
      "pygments_lexer": "ipython3",
      "version": "3.10.14"
    },
    "colab": {
      "provenance": []
    }
  },
  "nbformat": 4,
  "nbformat_minor": 5
}